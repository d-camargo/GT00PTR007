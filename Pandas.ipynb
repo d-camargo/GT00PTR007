{
  "nbformat": 4,
  "nbformat_minor": 0,
  "metadata": {
    "colab": {
      "name": "Pandas.ipynb",
      "provenance": [],
      "collapsed_sections": [],
      "mount_file_id": "1vhNSzn9dJMl9PJgLe5NLx1C8xGOAFiaT",
      "authorship_tag": "ABX9TyMBqjj/l+qETvgGj/Wc7Zn5",
      "include_colab_link": true
    },
    "kernelspec": {
      "name": "python3",
      "display_name": "Python 3"
    },
    "language_info": {
      "name": "python"
    }
  },
  "cells": [
    {
      "cell_type": "markdown",
      "metadata": {
        "id": "view-in-github",
        "colab_type": "text"
      },
      "source": [
        "<a href=\"https://colab.research.google.com/github/d-camargo/GT00PTR007/blob/main/Pandas.ipynb\" target=\"_parent\"><img src=\"https://colab.research.google.com/assets/colab-badge.svg\" alt=\"Open In Colab\"/></a>"
      ]
    },
    {
      "cell_type": "markdown",
      "source": [
        "#Introdução\n",
        "Pandas é uma biblioteca de software criada para a linguagem Python para manipulação e análise de dados. O Pandas é open-source e de uso gratuito (sob uma licença BSD), que fornece ferramentas para análise e manipulação de dados.\n",
        "Todas as informações necessárias para entendimento ou busca das funcionalidades do Pandas pode ser encontrado no site oficial - [Pandas](https://pandas.pydata.org/)"
      ],
      "metadata": {
        "id": "bC3AUXE2OC2l"
      }
    },
    {
      "cell_type": "markdown",
      "source": [
        "##Python\n",
        "Vamos trabalhar com algumas funções importantes do Python. Vale lembrar que vocês devem pesquisar sempre que necessitarem executar algo no Python. O primeiro local a fazer a pesquisa é na documentação do [Python](https://docs.python.org/pt-br/3.9/)\n",
        "Há um [tutorial](https://docs.python.org/pt-br/3.9/tutorial/index.html) no próprio site do Python que talvez seja importante vocês olharem. Com o tempo que temos disponível na disciplina não será possível passar por detalhes, mesmo assim, aprender uma linguagem de programação ou qualquer operacionalização de software exige mais do empenho de vocês em aplicar, pesquisar e desenvolver a habilidade do que com qualquer outra coisa.\n",
        "Neste tópico, portanto, segue alguns comandos e conceitos que são importantes que provem do próprio Python, ou seja, não é necessário instalação de qualquer pacote. São comandos e conceitos que eu considero importantes, não se limitem a isso...\n",
        "Vamos inciar verificando a versão do Python que temos aqui no Google Colab."
      ],
      "metadata": {
        "id": "qDSt73Kjq8GW"
      }
    },
    {
      "cell_type": "code",
      "source": [
        "!python --version"
      ],
      "metadata": {
        "colab": {
          "base_uri": "https://localhost:8080/"
        },
        "id": "8QyNGabn-jGC",
        "outputId": "1bcca6ef-5009-4a9a-b1cf-24fb84d7e36f"
      },
      "execution_count": 203,
      "outputs": [
        {
          "output_type": "stream",
          "name": "stdout",
          "text": [
            "Python 3.7.13\n"
          ]
        }
      ]
    },
    {
      "cell_type": "markdown",
      "source": [
        "###Trocar versão do Python\n",
        "Como temos uma versão mais antiga rodando aqui (3.7), vamos atualizar e usar a versão mais nova do Python. Lembrando que estes comandos são do Linux, esta maquina virtual, que estamos usando no Google Colab, é uma versão do Linux (Debian), ou seja, esses comandos no Windows não farão qualquer sentido."
      ],
      "metadata": {
        "id": "hAQjF9u__u9C"
      }
    },
    {
      "cell_type": "code",
      "source": [
        "#Como temos uma versão mais antiga rodando aqui (3.7), vamos atualizar e usar a\n",
        "#versão mais nova do Python. Lembrando que estes comandos são do Linux, esta\n",
        "#maquina virtual, que estamos usando no Google Colab, é uma versão do Linux (Debian)\n",
        "#Atualizando a versão do Python para 3.9\n",
        "!sudo apt-get update -y\n",
        "!sudo apt-get install python3.9"
      ],
      "metadata": {
        "id": "WZkThCis-rAI",
        "colab": {
          "base_uri": "https://localhost:8080/"
        },
        "outputId": "9bb59c5b-e8df-4855-c4b1-a9c0b9aac5fb"
      },
      "execution_count": 204,
      "outputs": [
        {
          "output_type": "stream",
          "name": "stdout",
          "text": [
            "\r0% [Working]\r            \rHit:1 https://developer.download.nvidia.com/compute/cuda/repos/ubuntu1804/x86_64  InRelease\n",
            "\r0% [Connecting to archive.ubuntu.com] [Connecting to security.ubuntu.com (185.1\r                                                                               \rGet:2 https://cloud.r-project.org/bin/linux/ubuntu bionic-cran40/ InRelease [3,626 B]\n",
            "\r0% [Connecting to archive.ubuntu.com (185.125.190.39)] [Connecting to security.\r0% [1 InRelease gpgv 1,575 B] [Connecting to archive.ubuntu.com (185.125.190.39\r                                                                               \rIgn:3 https://developer.download.nvidia.com/compute/machine-learning/repos/ubuntu1804/x86_64  InRelease\n",
            "Hit:4 https://developer.download.nvidia.com/compute/machine-learning/repos/ubuntu1804/x86_64  Release\n",
            "Get:5 http://security.ubuntu.com/ubuntu bionic-security InRelease [88.7 kB]\n",
            "Hit:6 http://archive.ubuntu.com/ubuntu bionic InRelease\n",
            "Get:7 https://cloud.r-project.org/bin/linux/ubuntu bionic-cran40/ Packages [84.8 kB]\n",
            "Get:8 http://ppa.launchpad.net/c2d4u.team/c2d4u4.0+/ubuntu bionic InRelease [15.9 kB]\n",
            "Get:10 http://archive.ubuntu.com/ubuntu bionic-updates InRelease [88.7 kB]\n",
            "Hit:11 http://ppa.launchpad.net/cran/libgit2/ubuntu bionic InRelease\n",
            "Get:12 http://security.ubuntu.com/ubuntu bionic-security/universe amd64 Packages [1,496 kB]\n",
            "Get:13 http://archive.ubuntu.com/ubuntu bionic-backports InRelease [74.6 kB]\n",
            "Hit:14 http://ppa.launchpad.net/deadsnakes/ppa/ubuntu bionic InRelease\n",
            "Get:15 http://archive.ubuntu.com/ubuntu bionic-updates/universe amd64 Packages [2,272 kB]\n",
            "Hit:16 http://ppa.launchpad.net/graphics-drivers/ppa/ubuntu bionic InRelease\n",
            "Get:17 http://ppa.launchpad.net/c2d4u.team/c2d4u4.0+/ubuntu bionic/main Sources [1,953 kB]\n",
            "Get:18 http://security.ubuntu.com/ubuntu bionic-security/main amd64 Packages [2,733 kB]\n",
            "Get:19 http://archive.ubuntu.com/ubuntu bionic-updates/main amd64 Packages [3,167 kB]\n",
            "Get:20 http://ppa.launchpad.net/c2d4u.team/c2d4u4.0+/ubuntu bionic/main amd64 Packages [1,001 kB]\n",
            "Fetched 13.0 MB in 4s (3,385 kB/s)\n",
            "Reading package lists... Done\n",
            "Reading package lists... Done\n",
            "Building dependency tree       \n",
            "Reading state information... Done\n",
            "The following packages were automatically installed and are no longer required:\n",
            "  libnvidia-common-460 nsight-compute-2020.2.0\n",
            "Use 'sudo apt autoremove' to remove them.\n",
            "The following additional packages will be installed:\n",
            "  libpython3.9-minimal libpython3.9-stdlib python3.9-minimal\n",
            "Suggested packages:\n",
            "  python3.9-venv binfmt-support\n",
            "The following NEW packages will be installed:\n",
            "  libpython3.9-minimal libpython3.9-stdlib python3.9 python3.9-minimal\n",
            "0 upgraded, 4 newly installed, 0 to remove and 54 not upgraded.\n",
            "Need to get 4,909 kB of archives.\n",
            "After this operation, 19.1 MB of additional disk space will be used.\n",
            "Get:1 http://ppa.launchpad.net/deadsnakes/ppa/ubuntu bionic/main amd64 libpython3.9-minimal amd64 3.9.12-1+bionic2 [805 kB]\n",
            "Get:2 http://ppa.launchpad.net/deadsnakes/ppa/ubuntu bionic/main amd64 python3.9-minimal amd64 3.9.12-1+bionic2 [1,937 kB]\n",
            "Get:3 http://ppa.launchpad.net/deadsnakes/ppa/ubuntu bionic/main amd64 libpython3.9-stdlib amd64 3.9.12-1+bionic2 [1,678 kB]\n",
            "Get:4 http://ppa.launchpad.net/deadsnakes/ppa/ubuntu bionic/main amd64 python3.9 amd64 3.9.12-1+bionic2 [489 kB]\n",
            "Fetched 4,909 kB in 5s (1,084 kB/s)\n",
            "debconf: unable to initialize frontend: Dialog\n",
            "debconf: (No usable dialog-like program is installed, so the dialog based frontend cannot be used. at /usr/share/perl5/Debconf/FrontEnd/Dialog.pm line 76, <> line 4.)\n",
            "debconf: falling back to frontend: Readline\n",
            "debconf: unable to initialize frontend: Readline\n",
            "debconf: (This frontend requires a controlling tty.)\n",
            "debconf: falling back to frontend: Teletype\n",
            "dpkg-preconfigure: unable to re-open stdin: \n",
            "Selecting previously unselected package libpython3.9-minimal:amd64.\n",
            "(Reading database ... 155202 files and directories currently installed.)\n",
            "Preparing to unpack .../libpython3.9-minimal_3.9.12-1+bionic2_amd64.deb ...\n",
            "Unpacking libpython3.9-minimal:amd64 (3.9.12-1+bionic2) ...\n",
            "Selecting previously unselected package python3.9-minimal.\n",
            "Preparing to unpack .../python3.9-minimal_3.9.12-1+bionic2_amd64.deb ...\n",
            "Unpacking python3.9-minimal (3.9.12-1+bionic2) ...\n",
            "Selecting previously unselected package libpython3.9-stdlib:amd64.\n",
            "Preparing to unpack .../libpython3.9-stdlib_3.9.12-1+bionic2_amd64.deb ...\n",
            "Unpacking libpython3.9-stdlib:amd64 (3.9.12-1+bionic2) ...\n",
            "Selecting previously unselected package python3.9.\n",
            "Preparing to unpack .../python3.9_3.9.12-1+bionic2_amd64.deb ...\n",
            "Unpacking python3.9 (3.9.12-1+bionic2) ...\n",
            "Setting up libpython3.9-minimal:amd64 (3.9.12-1+bionic2) ...\n",
            "Setting up libpython3.9-stdlib:amd64 (3.9.12-1+bionic2) ...\n",
            "Setting up python3.9-minimal (3.9.12-1+bionic2) ...\n",
            "Setting up python3.9 (3.9.12-1+bionic2) ...\n",
            "Processing triggers for mime-support (3.60ubuntu1) ...\n",
            "Processing triggers for man-db (2.8.3-2ubuntu0.1) ...\n"
          ]
        }
      ]
    },
    {
      "cell_type": "code",
      "source": [
        "#Mudando a versão de uso do Python alternatives\n",
        "!sudo update-alternatives --install /usr/bin/python3 python3 /usr/bin/python3.7 1\n",
        "!sudo update-alternatives --install /usr/bin/python3 python3 /usr/bin/python3.9 2\n",
        "#Após execução destes comando, retorne e veja novamente a versão do Python que \n",
        "#estamos usando agora"
      ],
      "metadata": {
        "colab": {
          "base_uri": "https://localhost:8080/"
        },
        "id": "-5CbeDHn_DKC",
        "outputId": "b7d9bbfc-5160-4cf6-9fe3-597fcfadba3d"
      },
      "execution_count": 205,
      "outputs": [
        {
          "output_type": "stream",
          "name": "stdout",
          "text": [
            "update-alternatives: using /usr/bin/python3.9 to provide /usr/bin/python3 (python3) in auto mode\n"
          ]
        }
      ]
    },
    {
      "cell_type": "markdown",
      "source": [
        "###Funções básicas Python"
      ],
      "metadata": {
        "id": "6281mdTm9SEp"
      }
    },
    {
      "cell_type": "code",
      "source": [
        "#Variáveis: O Python, assim como qualquer outra linguagem de programação, irá trabalhar com variáveis.\n",
        "#As variáveis tem como objetivo armazenar informações. Podemos usar qualquer letra\n",
        "#ou conjunto de caracteres. É necessário atribuir um valor a variável para que ela\n",
        "#seja \"declarada\". Veja o exemplo a seguir\n",
        "n_acidente = 34\n",
        "n_acidente"
      ],
      "metadata": {
        "colab": {
          "base_uri": "https://localhost:8080/"
        },
        "id": "TCh9RqSUsvRm",
        "outputId": "a0dd7853-320a-4f18-93f7-2b78cbbd3ae5"
      },
      "execution_count": 206,
      "outputs": [
        {
          "output_type": "execute_result",
          "data": {
            "text/plain": [
              "34"
            ]
          },
          "metadata": {},
          "execution_count": 206
        }
      ]
    },
    {
      "cell_type": "code",
      "source": [
        "#Podemos realizar operações matemáticas com as variáveis\n",
        "n_acidente + 1"
      ],
      "metadata": {
        "colab": {
          "base_uri": "https://localhost:8080/"
        },
        "id": "CrqJkb3evm0K",
        "outputId": "047504e8-309e-49b1-cf04-29e825003674"
      },
      "execution_count": 207,
      "outputs": [
        {
          "output_type": "execute_result",
          "data": {
            "text/plain": [
              "35"
            ]
          },
          "metadata": {},
          "execution_count": 207
        }
      ]
    },
    {
      "cell_type": "code",
      "source": [
        "#É possível armazenar uma nova variável utilizando uma já existente\n",
        "n_acidente1 = n_acidente + 10\n",
        "n_acidente1"
      ],
      "metadata": {
        "colab": {
          "base_uri": "https://localhost:8080/"
        },
        "id": "4iRuYOQRv4fE",
        "outputId": "7768fd9c-ac50-4f8d-e577-01089e0f96ab"
      },
      "execution_count": 208,
      "outputs": [
        {
          "output_type": "execute_result",
          "data": {
            "text/plain": [
              "44"
            ]
          },
          "metadata": {},
          "execution_count": 208
        }
      ]
    },
    {
      "cell_type": "markdown",
      "source": [
        "####Trabalhando com strings"
      ],
      "metadata": {
        "id": "b9nBq6-w9iqn"
      }
    },
    {
      "cell_type": "code",
      "source": [
        "#É possível criar mensagens que utilizam as variáveis\n",
        "print('O número de acidentes em frente ao CEFET é de,',n_acidente,'mas amanhã será de',n_acidente1)"
      ],
      "metadata": {
        "colab": {
          "base_uri": "https://localhost:8080/"
        },
        "id": "tb1bQuEmvvAl",
        "outputId": "95f2bc77-f6e1-41f7-feb0-ed2cecb1ccc4"
      },
      "execution_count": 209,
      "outputs": [
        {
          "output_type": "stream",
          "name": "stdout",
          "text": [
            "O número de acidentes em frente ao CEFET é de, 34 mas amanhã será de 44\n"
          ]
        }
      ]
    },
    {
      "cell_type": "code",
      "source": [
        "#Além de números, o Python também pode manipular strings (sequências de caracteres), \n",
        "#que podem ser expressas de diversas formas. Elas podem ser delimitadas por aspas \n",
        "#simples ('...') ou duplas (\"...\") e teremos o mesmo resultado. Convenciona-se \n",
        "#utilizar aspas simples.\n",
        "nome = 'Diego Camargo'\n",
        "profissao = 'Professor'\n",
        "instituicao = 'CEFET-MG'\n",
        "print(nome,'é',profissao,'no',instituicao)"
      ],
      "metadata": {
        "colab": {
          "base_uri": "https://localhost:8080/"
        },
        "id": "9r8qm7ae8_H7",
        "outputId": "6194d64e-d293-43b3-ee72-b9909b1f64c3"
      },
      "execution_count": 210,
      "outputs": [
        {
          "output_type": "stream",
          "name": "stdout",
          "text": [
            "Diego Camargo é Professor no CEFET-MG\n"
          ]
        }
      ]
    },
    {
      "cell_type": "code",
      "source": [
        "# \\ pode ser usada para escapar aspas, por exemplo\n",
        "nome_logradouro = 'Rua Pingo D\\'água'\n",
        "nome_logradouro"
      ],
      "metadata": {
        "colab": {
          "base_uri": "https://localhost:8080/",
          "height": 0
        },
        "id": "oA875Lm-9mIq",
        "outputId": "b2ab5461-f0dc-412f-8e11-fe3db43fc4b3"
      },
      "execution_count": 211,
      "outputs": [
        {
          "output_type": "execute_result",
          "data": {
            "text/plain": [
              "\"Rua Pingo D'água\""
            ],
            "application/vnd.google.colaboratory.intrinsic+json": {
              "type": "string"
            }
          },
          "metadata": {},
          "execution_count": 211
        }
      ]
    },
    {
      "cell_type": "code",
      "source": [
        "#Para que seja iniciada uma nova linha no texto (string) podemos adicionar '\\n'\n",
        "#Mas para que ocorra a quebra da linha é necessário utilizar a função print()\n",
        "texto = 'Primeira linha \\nSegunda Linha \\nTerceira Linha'\n",
        "print(texto)"
      ],
      "metadata": {
        "colab": {
          "base_uri": "https://localhost:8080/"
        },
        "id": "YFjiAwFfBXBf",
        "outputId": "a6d079af-28ed-4a61-fd2f-a49f3ce66042"
      },
      "execution_count": 212,
      "outputs": [
        {
          "output_type": "stream",
          "name": "stdout",
          "text": [
            "Primeira linha \n",
            "Segunda Linha \n",
            "Terceira Linha\n"
          ]
        }
      ]
    },
    {
      "cell_type": "code",
      "source": [
        "#Imagine que estamos querendo visualizar o endereço de uma pasta no computador\n",
        "#e que esse endereço é: 'C:\\some\\name'\n",
        "end = 'C:\\some\\name'\n",
        "print(end)\n",
        "#Para não ocorrer esse tipo de erro, podemos utilizar um artificio, inserir o\n",
        "#'r' antes do endereço\n",
        "end = r'C:\\some\\name'\n",
        "print(end)"
      ],
      "metadata": {
        "colab": {
          "base_uri": "https://localhost:8080/"
        },
        "id": "KjrSzRm_CFdY",
        "outputId": "55079ffe-9346-40c9-e396-9f77b93e2e8b"
      },
      "execution_count": 213,
      "outputs": [
        {
          "output_type": "stream",
          "name": "stdout",
          "text": [
            "C:\\some\n",
            "ame\n",
            "C:\\some\\name\n"
          ]
        }
      ]
    },
    {
      "cell_type": "code",
      "source": [
        "#A função len() devolve o comprimento de uma string:\n",
        "print('O compromento da variável \"end\" é igual a',len(end),'caracteres')\n",
        "print('O compromento da variável \"texto\" é igual a',len(texto),'caracteres')"
      ],
      "metadata": {
        "colab": {
          "base_uri": "https://localhost:8080/"
        },
        "id": "3A3p4DQtEBRG",
        "outputId": "80c3e1e5-3ed2-464d-9d47-07d526a7897d"
      },
      "execution_count": 214,
      "outputs": [
        {
          "output_type": "stream",
          "name": "stdout",
          "text": [
            "O compromento da variável \"end\" é igual a 12 caracteres\n",
            "O compromento da variável \"texto\" é igual a 45 caracteres\n"
          ]
        }
      ]
    },
    {
      "cell_type": "code",
      "source": [
        "#Podemos procurar por caracteres especificos nas strings. A resposta sai em \n",
        "#booleano\n",
        "'\\n' in texto\n",
        "#Agora que sabemos que existe o caractere na string podemos usar a função remove\n",
        "#para extrai-la\n",
        "print(texto.replace(\"\\n\",''))\n",
        "#Para subscrever o novo texto na mesma veriável\n",
        "texto = texto.replace(\"\\n\",'')"
      ],
      "metadata": {
        "id": "LpMl1nu0IAmu",
        "colab": {
          "base_uri": "https://localhost:8080/"
        },
        "outputId": "f5ae6520-53ef-4989-dcf4-2aa44d76e8d5"
      },
      "execution_count": 215,
      "outputs": [
        {
          "output_type": "stream",
          "name": "stdout",
          "text": [
            "Primeira linha Segunda Linha Terceira Linha\n"
          ]
        }
      ]
    },
    {
      "cell_type": "markdown",
      "source": [
        "####Trabalhando com listas\n",
        "Python inclui diversas estruturas de dados compostas, usadas para agrupar outros valores. A mais versátil é list (lista), que pode ser escrita como uma lista de valores (itens) separados por vírgula, entre colchetes. Os valores contidos na lista não precisam ser todos do mesmo tipo."
      ],
      "metadata": {
        "id": "-SQ_CumF962f"
      }
    },
    {
      "cell_type": "code",
      "source": [
        "acidentes = [12,23,54,65,98,129]\n",
        "acidentes\n",
        "#Podemos extrair um valor específico da lista através do seu index. O índice inicia\n",
        "#em 0 (zero) e vai até n (número de elementos na lista)\n",
        "acidentes[0]\n",
        "acidentes[4]"
      ],
      "metadata": {
        "colab": {
          "base_uri": "https://localhost:8080/"
        },
        "id": "OSETcgml-ENF",
        "outputId": "c47678fe-4fef-4be4-800f-2842422d8c20"
      },
      "execution_count": 216,
      "outputs": [
        {
          "output_type": "execute_result",
          "data": {
            "text/plain": [
              "98"
            ]
          },
          "metadata": {},
          "execution_count": 216
        }
      ]
    },
    {
      "cell_type": "code",
      "source": [
        "#É possível retirar apenas uma parte dos dados de uma lista, utilizando o index\n",
        "acidentes[3:]\n",
        "acidentes[2:5]"
      ],
      "metadata": {
        "colab": {
          "base_uri": "https://localhost:8080/"
        },
        "id": "hN1Xp18b-xUX",
        "outputId": "96c38e3e-10e3-4738-cdf4-118c614edd68"
      },
      "execution_count": 217,
      "outputs": [
        {
          "output_type": "execute_result",
          "data": {
            "text/plain": [
              "[54, 65, 98]"
            ]
          },
          "metadata": {},
          "execution_count": 217
        }
      ]
    },
    {
      "cell_type": "code",
      "source": [
        "#Concatenar listas (utilizar o sinal de '+' para concatenar)\n",
        "acidentes + [14,42,89]"
      ],
      "metadata": {
        "colab": {
          "base_uri": "https://localhost:8080/"
        },
        "id": "exws8uiQ_RGH",
        "outputId": "99102906-55e8-45e4-9bfd-08ba6f25690e"
      },
      "execution_count": 218,
      "outputs": [
        {
          "output_type": "execute_result",
          "data": {
            "text/plain": [
              "[12, 23, 54, 65, 98, 129, 14, 42, 89]"
            ]
          },
          "metadata": {},
          "execution_count": 218
        }
      ]
    },
    {
      "cell_type": "code",
      "source": [
        "#Diferentemente de strings, que são imutáveis, listas são mutáveis, ou seja, \n",
        "#é possível alterar elementos individuais de uma lista. Para isso devemos\n",
        "#dizer ao sistema qual é o elemento da lista que vamos mudar\n",
        "acidentes[4] = 68\n",
        "acidentes"
      ],
      "metadata": {
        "colab": {
          "base_uri": "https://localhost:8080/"
        },
        "id": "5NLx69eu_fWA",
        "outputId": "99a2e24c-127e-45a5-950c-41e3197771fa"
      },
      "execution_count": 219,
      "outputs": [
        {
          "output_type": "execute_result",
          "data": {
            "text/plain": [
              "[12, 23, 54, 65, 68, 129]"
            ]
          },
          "metadata": {},
          "execution_count": 219
        }
      ]
    },
    {
      "cell_type": "code",
      "source": [
        "#Podemos também pode adicionar novos itens no final da lista, \n",
        "#usando o método append():\n",
        "acidentes.append(98)\n",
        "acidentes"
      ],
      "metadata": {
        "colab": {
          "base_uri": "https://localhost:8080/"
        },
        "id": "4jOM1HPjA9VI",
        "outputId": "49581c2c-c8a6-4611-fd6b-9c682c026838"
      },
      "execution_count": 220,
      "outputs": [
        {
          "output_type": "execute_result",
          "data": {
            "text/plain": [
              "[12, 23, 54, 65, 68, 129, 98]"
            ]
          },
          "metadata": {},
          "execution_count": 220
        }
      ]
    },
    {
      "cell_type": "code",
      "source": [
        "#Finalmente, podemos manipular todos os dados de uma lista, apenas trabalhando\n",
        "#com o índice. A função len(), que usamos para obter o tamanho de uma string\n",
        "#para listas também vai funcionar, mas agora para saber quantos elementos \n",
        "#temos em uma lista\n",
        "len(acidentes)"
      ],
      "metadata": {
        "colab": {
          "base_uri": "https://localhost:8080/"
        },
        "id": "MtdHRlT6CJU0",
        "outputId": "e094a0a9-48ce-4583-9b82-e1abeea3b203"
      },
      "execution_count": 221,
      "outputs": [
        {
          "output_type": "execute_result",
          "data": {
            "text/plain": [
              "7"
            ]
          },
          "metadata": {},
          "execution_count": 221
        }
      ]
    },
    {
      "cell_type": "code",
      "source": [
        "#Se você precisa iterar sobre sequências numéricas, a função embutida range() é \n",
        "#a resposta. Ela gera progressões aritméticas.\n",
        "for i in range(10):\n",
        "  print(i)"
      ],
      "metadata": {
        "colab": {
          "base_uri": "https://localhost:8080/"
        },
        "id": "IbXx28rFazM9",
        "outputId": "24382a4d-29a4-46d7-b350-db4b6b92d059"
      },
      "execution_count": 222,
      "outputs": [
        {
          "output_type": "stream",
          "name": "stdout",
          "text": [
            "0\n",
            "1\n",
            "2\n",
            "3\n",
            "4\n",
            "5\n",
            "6\n",
            "7\n",
            "8\n",
            "9\n"
          ]
        }
      ]
    },
    {
      "cell_type": "code",
      "source": [
        "#Podemos inserir em uma lita todos os valores gerados pelo range()\n",
        "lista = list(range(10))\n",
        "lista"
      ],
      "metadata": {
        "colab": {
          "base_uri": "https://localhost:8080/"
        },
        "id": "PQ7UL1sscDGc",
        "outputId": "865cb3f7-2e41-4a4d-fd13-004cc24988f9"
      },
      "execution_count": 223,
      "outputs": [
        {
          "output_type": "execute_result",
          "data": {
            "text/plain": [
              "[0, 1, 2, 3, 4, 5, 6, 7, 8, 9]"
            ]
          },
          "metadata": {},
          "execution_count": 223
        }
      ]
    },
    {
      "cell_type": "code",
      "source": [
        "#Exemplo de uma estrutura em laço contendo funções que aprendemos e uma informação nova\n",
        "#Podemos definir duas variáveis ao mesmo tempo 'a, b = 0, 1'. Onde a=0 e b=1\n",
        "lista = []\n",
        "a, b = 0, 1\n",
        "while a < 15:\n",
        "  lista.append(a)\n",
        "  a, b = b, a+b\n",
        "lista"
      ],
      "metadata": {
        "colab": {
          "base_uri": "https://localhost:8080/"
        },
        "id": "NLbeTQm_Ddlj",
        "outputId": "affdddf4-72f5-4466-ec12-fed833ee3992"
      },
      "execution_count": 224,
      "outputs": [
        {
          "output_type": "execute_result",
          "data": {
            "text/plain": [
              "[0, 1, 1, 2, 3, 5, 8, 13]"
            ]
          },
          "metadata": {},
          "execution_count": 224
        }
      ]
    },
    {
      "cell_type": "markdown",
      "source": [
        "##Instalação do Pandas no ambiente Python\n",
        "O pip é um sistema de gerenciamento de pacotes padrão usado para instalar e gerenciar pacotes de software escritos em Python.\n",
        "Muitos pacotes podem ser encontrados na fonte padrão para pacotes e suas dependências - Python Index Package. A maioria das distribuições do Python vem com o pip pré-instalado.\n",
        "A sintax para instalação do Pandas ou qualquer outro pacote no Python é:\n",
        "\"pip install 'nome_pacote'\"\n",
        "Abaixo vocês podem conferir o código de instalação do pandas"
      ],
      "metadata": {
        "id": "zWp_HfQbpAut"
      }
    },
    {
      "cell_type": "code",
      "execution_count": 225,
      "metadata": {
        "id": "sldzfKCdN9Ry",
        "colab": {
          "base_uri": "https://localhost:8080/"
        },
        "outputId": "ef941471-e68f-4fc3-ac53-091dc4494eb2"
      },
      "outputs": [
        {
          "output_type": "stream",
          "name": "stdout",
          "text": [
            "Traceback (most recent call last):\n",
            "  File \"/usr/local/bin/pip3\", line 5, in <module>\n",
            "    from pip._internal.cli.main import main\n",
            "ModuleNotFoundError: No module named 'pip'\n"
          ]
        }
      ],
      "source": [
        "pip install pandas"
      ]
    },
    {
      "cell_type": "markdown",
      "source": [
        "##Importar o pacote\n",
        "Uma das taferas iniciais para composição do trabalho em Python é a importação dos pacotes que serão utilizados. Nesta etapa podemos sugerir ao sistema uma simplificação do nome do pacote.\n",
        "Toda vez que usamos as ferramentas de um pacote, Pandas por exemplo, devemos 'dizer' ao sistema qual é o pacote, portando, escrever toda vez o nome do pacote (Pandas) no código pode se tornar uma tarefa exaustiva.\n",
        "A sintaxe para importar qualquer pacote é: \"import 'nome_pacote'\". Nos casos que simplificamos o nome do pacote a sintaxe será: \"import 'nome_pacote' as 'sigla_pacote'\"\n",
        "No código abaixo vocês podem verificar a sintaxe aplicada ao pacote Pandas."
      ],
      "metadata": {
        "id": "1lNUw9qFqdic"
      }
    },
    {
      "cell_type": "code",
      "source": [
        "import sys\n",
        "import pandas as pd"
      ],
      "metadata": {
        "id": "jR-CXugEsMoE"
      },
      "execution_count": 226,
      "outputs": []
    },
    {
      "cell_type": "code",
      "source": [
        "pd.__version__"
      ],
      "metadata": {
        "colab": {
          "base_uri": "https://localhost:8080/",
          "height": 0
        },
        "id": "h0KAmrbWXj39",
        "outputId": "c20bc79c-70ca-4baa-de70-393a7ad57a87"
      },
      "execution_count": 227,
      "outputs": [
        {
          "output_type": "execute_result",
          "data": {
            "text/plain": [
              "'1.3.5'"
            ],
            "application/vnd.google.colaboratory.intrinsic+json": {
              "type": "string"
            }
          },
          "metadata": {},
          "execution_count": 227
        }
      ]
    },
    {
      "cell_type": "markdown",
      "source": [
        "#Trabalhando com o Pandas\n",
        "Vamos, inicialmente, trabalhar com esse banco de dados - [Relação de ocorrências de acidentes de trânsito com vítima - 2020](https://dados.pbh.gov.br/dataset/relacao-de-ocorrencias-de-acidentes-de-transito-com-vitima). Baixem este arquivo (você podem -ou devem- armazenar este arquivo no Google Drive de vocês, para que ele fique disponível na nuvem, independente do computador que estiverem acessando para executar os códigos.\n",
        "Faça a leitura do arquivo csv, conforme código disponível.\n",
        "É importante destacar a documentação oficial do Pandas [considerando 'input' e 'output'](https://pandas.pydata.org/docs/reference/api/pandas.read_csv.html).\n",
        "Você deve formular algumas perguntas que possivelmente o banco de dados responderão, como por exemplo:\n",
        "\n",
        "**Quais dias da semana tem mais e menos acidentes?**\n",
        "\n",
        "**Qual a média de acidentes no período dos dados?**\n",
        "\n",
        "**Qual o tipo de acidente que é mais frequênte?**\n",
        "\n",
        "Entre outras..."
      ],
      "metadata": {
        "id": "kAkTjqK0tf7a"
      }
    },
    {
      "cell_type": "code",
      "source": [
        "ac = pd.read_csv('/content/drive/MyDrive/Colab Notebooks/si-bol-2020.csv')"
      ],
      "metadata": {
        "id": "PnIekofmI2_B",
        "colab": {
          "base_uri": "https://localhost:8080/",
          "height": 233
        },
        "outputId": "abf5f20f-fedd-4c69-d448-8fa92df45143"
      },
      "execution_count": 228,
      "outputs": [
        {
          "output_type": "error",
          "ename": "UnicodeDecodeError",
          "evalue": "ignored",
          "traceback": [
            "\u001b[0;31m---------------------------------------------------------------------------\u001b[0m",
            "\u001b[0;31mUnicodeDecodeError\u001b[0m                        Traceback (most recent call last)",
            "\u001b[0;32m<ipython-input-228-3955c6e1376e>\u001b[0m in \u001b[0;36m<module>\u001b[0;34m()\u001b[0m\n\u001b[0;32m----> 1\u001b[0;31m \u001b[0mac\u001b[0m \u001b[0;34m=\u001b[0m \u001b[0mpd\u001b[0m\u001b[0;34m.\u001b[0m\u001b[0mread_csv\u001b[0m\u001b[0;34m(\u001b[0m\u001b[0;34m'/content/drive/MyDrive/Colab Notebooks/si-bol-2020.csv'\u001b[0m\u001b[0;34m)\u001b[0m\u001b[0;34m\u001b[0m\u001b[0;34m\u001b[0m\u001b[0m\n\u001b[0m",
            "\u001b[0;32m/usr/local/lib/python3.7/dist-packages/pandas/util/_decorators.py\u001b[0m in \u001b[0;36mwrapper\u001b[0;34m(*args, **kwargs)\u001b[0m\n\u001b[1;32m    309\u001b[0m                     \u001b[0mstacklevel\u001b[0m\u001b[0;34m=\u001b[0m\u001b[0mstacklevel\u001b[0m\u001b[0;34m,\u001b[0m\u001b[0;34m\u001b[0m\u001b[0;34m\u001b[0m\u001b[0m\n\u001b[1;32m    310\u001b[0m                 )\n\u001b[0;32m--> 311\u001b[0;31m             \u001b[0;32mreturn\u001b[0m \u001b[0mfunc\u001b[0m\u001b[0;34m(\u001b[0m\u001b[0;34m*\u001b[0m\u001b[0margs\u001b[0m\u001b[0;34m,\u001b[0m \u001b[0;34m**\u001b[0m\u001b[0mkwargs\u001b[0m\u001b[0;34m)\u001b[0m\u001b[0;34m\u001b[0m\u001b[0;34m\u001b[0m\u001b[0m\n\u001b[0m\u001b[1;32m    312\u001b[0m \u001b[0;34m\u001b[0m\u001b[0m\n\u001b[1;32m    313\u001b[0m         \u001b[0;32mreturn\u001b[0m \u001b[0mwrapper\u001b[0m\u001b[0;34m\u001b[0m\u001b[0;34m\u001b[0m\u001b[0m\n",
            "\u001b[0;32m/usr/local/lib/python3.7/dist-packages/pandas/io/parsers/readers.py\u001b[0m in \u001b[0;36mread_csv\u001b[0;34m(filepath_or_buffer, sep, delimiter, header, names, index_col, usecols, squeeze, prefix, mangle_dupe_cols, dtype, engine, converters, true_values, false_values, skipinitialspace, skiprows, skipfooter, nrows, na_values, keep_default_na, na_filter, verbose, skip_blank_lines, parse_dates, infer_datetime_format, keep_date_col, date_parser, dayfirst, cache_dates, iterator, chunksize, compression, thousands, decimal, lineterminator, quotechar, quoting, doublequote, escapechar, comment, encoding, encoding_errors, dialect, error_bad_lines, warn_bad_lines, on_bad_lines, delim_whitespace, low_memory, memory_map, float_precision, storage_options)\u001b[0m\n\u001b[1;32m    584\u001b[0m     \u001b[0mkwds\u001b[0m\u001b[0;34m.\u001b[0m\u001b[0mupdate\u001b[0m\u001b[0;34m(\u001b[0m\u001b[0mkwds_defaults\u001b[0m\u001b[0;34m)\u001b[0m\u001b[0;34m\u001b[0m\u001b[0;34m\u001b[0m\u001b[0m\n\u001b[1;32m    585\u001b[0m \u001b[0;34m\u001b[0m\u001b[0m\n\u001b[0;32m--> 586\u001b[0;31m     \u001b[0;32mreturn\u001b[0m \u001b[0m_read\u001b[0m\u001b[0;34m(\u001b[0m\u001b[0mfilepath_or_buffer\u001b[0m\u001b[0;34m,\u001b[0m \u001b[0mkwds\u001b[0m\u001b[0;34m)\u001b[0m\u001b[0;34m\u001b[0m\u001b[0;34m\u001b[0m\u001b[0m\n\u001b[0m\u001b[1;32m    587\u001b[0m \u001b[0;34m\u001b[0m\u001b[0m\n\u001b[1;32m    588\u001b[0m \u001b[0;34m\u001b[0m\u001b[0m\n",
            "\u001b[0;32m/usr/local/lib/python3.7/dist-packages/pandas/io/parsers/readers.py\u001b[0m in \u001b[0;36m_read\u001b[0;34m(filepath_or_buffer, kwds)\u001b[0m\n\u001b[1;32m    480\u001b[0m \u001b[0;34m\u001b[0m\u001b[0m\n\u001b[1;32m    481\u001b[0m     \u001b[0;31m# Create the parser.\u001b[0m\u001b[0;34m\u001b[0m\u001b[0;34m\u001b[0m\u001b[0;34m\u001b[0m\u001b[0m\n\u001b[0;32m--> 482\u001b[0;31m     \u001b[0mparser\u001b[0m \u001b[0;34m=\u001b[0m \u001b[0mTextFileReader\u001b[0m\u001b[0;34m(\u001b[0m\u001b[0mfilepath_or_buffer\u001b[0m\u001b[0;34m,\u001b[0m \u001b[0;34m**\u001b[0m\u001b[0mkwds\u001b[0m\u001b[0;34m)\u001b[0m\u001b[0;34m\u001b[0m\u001b[0;34m\u001b[0m\u001b[0m\n\u001b[0m\u001b[1;32m    483\u001b[0m \u001b[0;34m\u001b[0m\u001b[0m\n\u001b[1;32m    484\u001b[0m     \u001b[0;32mif\u001b[0m \u001b[0mchunksize\u001b[0m \u001b[0;32mor\u001b[0m \u001b[0miterator\u001b[0m\u001b[0;34m:\u001b[0m\u001b[0;34m\u001b[0m\u001b[0;34m\u001b[0m\u001b[0m\n",
            "\u001b[0;32m/usr/local/lib/python3.7/dist-packages/pandas/io/parsers/readers.py\u001b[0m in \u001b[0;36m__init__\u001b[0;34m(self, f, engine, **kwds)\u001b[0m\n\u001b[1;32m    809\u001b[0m             \u001b[0mself\u001b[0m\u001b[0;34m.\u001b[0m\u001b[0moptions\u001b[0m\u001b[0;34m[\u001b[0m\u001b[0;34m\"has_index_names\"\u001b[0m\u001b[0;34m]\u001b[0m \u001b[0;34m=\u001b[0m \u001b[0mkwds\u001b[0m\u001b[0;34m[\u001b[0m\u001b[0;34m\"has_index_names\"\u001b[0m\u001b[0;34m]\u001b[0m\u001b[0;34m\u001b[0m\u001b[0;34m\u001b[0m\u001b[0m\n\u001b[1;32m    810\u001b[0m \u001b[0;34m\u001b[0m\u001b[0m\n\u001b[0;32m--> 811\u001b[0;31m         \u001b[0mself\u001b[0m\u001b[0;34m.\u001b[0m\u001b[0m_engine\u001b[0m \u001b[0;34m=\u001b[0m \u001b[0mself\u001b[0m\u001b[0;34m.\u001b[0m\u001b[0m_make_engine\u001b[0m\u001b[0;34m(\u001b[0m\u001b[0mself\u001b[0m\u001b[0;34m.\u001b[0m\u001b[0mengine\u001b[0m\u001b[0;34m)\u001b[0m\u001b[0;34m\u001b[0m\u001b[0;34m\u001b[0m\u001b[0m\n\u001b[0m\u001b[1;32m    812\u001b[0m \u001b[0;34m\u001b[0m\u001b[0m\n\u001b[1;32m    813\u001b[0m     \u001b[0;32mdef\u001b[0m \u001b[0mclose\u001b[0m\u001b[0;34m(\u001b[0m\u001b[0mself\u001b[0m\u001b[0;34m)\u001b[0m\u001b[0;34m:\u001b[0m\u001b[0;34m\u001b[0m\u001b[0;34m\u001b[0m\u001b[0m\n",
            "\u001b[0;32m/usr/local/lib/python3.7/dist-packages/pandas/io/parsers/readers.py\u001b[0m in \u001b[0;36m_make_engine\u001b[0;34m(self, engine)\u001b[0m\n\u001b[1;32m   1038\u001b[0m             )\n\u001b[1;32m   1039\u001b[0m         \u001b[0;31m# error: Too many arguments for \"ParserBase\"\u001b[0m\u001b[0;34m\u001b[0m\u001b[0;34m\u001b[0m\u001b[0;34m\u001b[0m\u001b[0m\n\u001b[0;32m-> 1040\u001b[0;31m         \u001b[0;32mreturn\u001b[0m \u001b[0mmapping\u001b[0m\u001b[0;34m[\u001b[0m\u001b[0mengine\u001b[0m\u001b[0;34m]\u001b[0m\u001b[0;34m(\u001b[0m\u001b[0mself\u001b[0m\u001b[0;34m.\u001b[0m\u001b[0mf\u001b[0m\u001b[0;34m,\u001b[0m \u001b[0;34m**\u001b[0m\u001b[0mself\u001b[0m\u001b[0;34m.\u001b[0m\u001b[0moptions\u001b[0m\u001b[0;34m)\u001b[0m  \u001b[0;31m# type: ignore[call-arg]\u001b[0m\u001b[0;34m\u001b[0m\u001b[0;34m\u001b[0m\u001b[0m\n\u001b[0m\u001b[1;32m   1041\u001b[0m \u001b[0;34m\u001b[0m\u001b[0m\n\u001b[1;32m   1042\u001b[0m     \u001b[0;32mdef\u001b[0m \u001b[0m_failover_to_python\u001b[0m\u001b[0;34m(\u001b[0m\u001b[0mself\u001b[0m\u001b[0;34m)\u001b[0m\u001b[0;34m:\u001b[0m\u001b[0;34m\u001b[0m\u001b[0;34m\u001b[0m\u001b[0m\n",
            "\u001b[0;32m/usr/local/lib/python3.7/dist-packages/pandas/io/parsers/c_parser_wrapper.py\u001b[0m in \u001b[0;36m__init__\u001b[0;34m(self, src, **kwds)\u001b[0m\n\u001b[1;32m     67\u001b[0m         \u001b[0mkwds\u001b[0m\u001b[0;34m[\u001b[0m\u001b[0;34m\"dtype\"\u001b[0m\u001b[0;34m]\u001b[0m \u001b[0;34m=\u001b[0m \u001b[0mensure_dtype_objs\u001b[0m\u001b[0;34m(\u001b[0m\u001b[0mkwds\u001b[0m\u001b[0;34m.\u001b[0m\u001b[0mget\u001b[0m\u001b[0;34m(\u001b[0m\u001b[0;34m\"dtype\"\u001b[0m\u001b[0;34m,\u001b[0m \u001b[0;32mNone\u001b[0m\u001b[0;34m)\u001b[0m\u001b[0;34m)\u001b[0m\u001b[0;34m\u001b[0m\u001b[0;34m\u001b[0m\u001b[0m\n\u001b[1;32m     68\u001b[0m         \u001b[0;32mtry\u001b[0m\u001b[0;34m:\u001b[0m\u001b[0;34m\u001b[0m\u001b[0;34m\u001b[0m\u001b[0m\n\u001b[0;32m---> 69\u001b[0;31m             \u001b[0mself\u001b[0m\u001b[0;34m.\u001b[0m\u001b[0m_reader\u001b[0m \u001b[0;34m=\u001b[0m \u001b[0mparsers\u001b[0m\u001b[0;34m.\u001b[0m\u001b[0mTextReader\u001b[0m\u001b[0;34m(\u001b[0m\u001b[0mself\u001b[0m\u001b[0;34m.\u001b[0m\u001b[0mhandles\u001b[0m\u001b[0;34m.\u001b[0m\u001b[0mhandle\u001b[0m\u001b[0;34m,\u001b[0m \u001b[0;34m**\u001b[0m\u001b[0mkwds\u001b[0m\u001b[0;34m)\u001b[0m\u001b[0;34m\u001b[0m\u001b[0;34m\u001b[0m\u001b[0m\n\u001b[0m\u001b[1;32m     70\u001b[0m         \u001b[0;32mexcept\u001b[0m \u001b[0mException\u001b[0m\u001b[0;34m:\u001b[0m\u001b[0;34m\u001b[0m\u001b[0;34m\u001b[0m\u001b[0m\n\u001b[1;32m     71\u001b[0m             \u001b[0mself\u001b[0m\u001b[0;34m.\u001b[0m\u001b[0mhandles\u001b[0m\u001b[0;34m.\u001b[0m\u001b[0mclose\u001b[0m\u001b[0;34m(\u001b[0m\u001b[0;34m)\u001b[0m\u001b[0;34m\u001b[0m\u001b[0;34m\u001b[0m\u001b[0m\n",
            "\u001b[0;32m/usr/local/lib/python3.7/dist-packages/pandas/_libs/parsers.pyx\u001b[0m in \u001b[0;36mpandas._libs.parsers.TextReader.__cinit__\u001b[0;34m()\u001b[0m\n",
            "\u001b[0;32m/usr/local/lib/python3.7/dist-packages/pandas/_libs/parsers.pyx\u001b[0m in \u001b[0;36mpandas._libs.parsers.TextReader._get_header\u001b[0;34m()\u001b[0m\n",
            "\u001b[0;32m/usr/local/lib/python3.7/dist-packages/pandas/_libs/parsers.pyx\u001b[0m in \u001b[0;36mpandas._libs.parsers.TextReader._tokenize_rows\u001b[0;34m()\u001b[0m\n",
            "\u001b[0;32m/usr/local/lib/python3.7/dist-packages/pandas/_libs/parsers.pyx\u001b[0m in \u001b[0;36mpandas._libs.parsers.raise_parser_error\u001b[0;34m()\u001b[0m\n",
            "\u001b[0;31mUnicodeDecodeError\u001b[0m: 'utf-8' codec can't decode byte 0xc7 in position 303: invalid continuation byte"
          ]
        }
      ]
    },
    {
      "cell_type": "code",
      "source": [
        "#Após o erro de UnicodeDecodeError podemos modificar a codificação dos dados para ISO-8859-1\n",
        "ac = pd.read_csv('/content/drive/MyDrive/Colab Notebooks/si-bol-2020.csv', encoding = \"ISO-8859-1\")\n",
        "ac.head()"
      ],
      "metadata": {
        "id": "igPJwWOQKk-n",
        "colab": {
          "base_uri": "https://localhost:8080/",
          "height": 285
        },
        "outputId": "d2517560-b94c-46d9-e8b4-3cce3d437c0c"
      },
      "execution_count": 229,
      "outputs": [
        {
          "output_type": "execute_result",
          "data": {
            "text/plain": [
              "   NUMERO_BOLETIM; DATA HORA_BOLETIM; DATA_INCLUSAO; TIPO_ACIDENTE; DESC_TIPO_ACIDENTE; COD_TEMPO; DESC_TEMPO; COD_PAVIMENTO; PAVIMENTO; COD_REGIONAL; DESC_REGIONAL; ORIGEM_BOLETIM; LOCAL_SINALIZADO; VELOCIDADE_PERMITIDA; COORDENADA_X; COORDENADA_Y; HORA_INFORMADA; INDICADOR_FATALIDADE; VALOR_UPS; DESCRIÇÃO_UPS; DATA_ALTERACAO_SMSA; VALOR_UPS_ANTIGA; DESCRIÇÃO_UPS_ANTIGA\n",
              "0  2020-011831835-001;07/03/2020 06:00;07/03/2020...                                                                                                                                                                                                                                                                                                                                 \n",
              "1  2020-011838326-001;07/03/2020 08:27;07/03/2020...                                                                                                                                                                                                                                                                                                                                 \n",
              "2  2020-011841962-001;07/03/2020 06:53;07/03/2020...                                                                                                                                                                                                                                                                                                                                 \n",
              "3  2020-011849103-001;07/03/2020 10:10;07/03/2020...                                                                                                                                                                                                                                                                                                                                 \n",
              "4  2020-011854660-001;07/03/2020 10:48;07/03/2020...                                                                                                                                                                                                                                                                                                                                 "
            ],
            "text/html": [
              "\n",
              "  <div id=\"df-99f402c0-a5b5-454b-a57c-91e69db42787\">\n",
              "    <div class=\"colab-df-container\">\n",
              "      <div>\n",
              "<style scoped>\n",
              "    .dataframe tbody tr th:only-of-type {\n",
              "        vertical-align: middle;\n",
              "    }\n",
              "\n",
              "    .dataframe tbody tr th {\n",
              "        vertical-align: top;\n",
              "    }\n",
              "\n",
              "    .dataframe thead th {\n",
              "        text-align: right;\n",
              "    }\n",
              "</style>\n",
              "<table border=\"1\" class=\"dataframe\">\n",
              "  <thead>\n",
              "    <tr style=\"text-align: right;\">\n",
              "      <th></th>\n",
              "      <th>NUMERO_BOLETIM; DATA HORA_BOLETIM; DATA_INCLUSAO; TIPO_ACIDENTE; DESC_TIPO_ACIDENTE; COD_TEMPO; DESC_TEMPO; COD_PAVIMENTO; PAVIMENTO; COD_REGIONAL; DESC_REGIONAL; ORIGEM_BOLETIM; LOCAL_SINALIZADO; VELOCIDADE_PERMITIDA; COORDENADA_X; COORDENADA_Y; HORA_INFORMADA; INDICADOR_FATALIDADE; VALOR_UPS; DESCRIÇÃO_UPS; DATA_ALTERACAO_SMSA; VALOR_UPS_ANTIGA; DESCRIÇÃO_UPS_ANTIGA</th>\n",
              "    </tr>\n",
              "  </thead>\n",
              "  <tbody>\n",
              "    <tr>\n",
              "      <th>0</th>\n",
              "      <td>2020-011831835-001;07/03/2020 06:00;07/03/2020...</td>\n",
              "    </tr>\n",
              "    <tr>\n",
              "      <th>1</th>\n",
              "      <td>2020-011838326-001;07/03/2020 08:27;07/03/2020...</td>\n",
              "    </tr>\n",
              "    <tr>\n",
              "      <th>2</th>\n",
              "      <td>2020-011841962-001;07/03/2020 06:53;07/03/2020...</td>\n",
              "    </tr>\n",
              "    <tr>\n",
              "      <th>3</th>\n",
              "      <td>2020-011849103-001;07/03/2020 10:10;07/03/2020...</td>\n",
              "    </tr>\n",
              "    <tr>\n",
              "      <th>4</th>\n",
              "      <td>2020-011854660-001;07/03/2020 10:48;07/03/2020...</td>\n",
              "    </tr>\n",
              "  </tbody>\n",
              "</table>\n",
              "</div>\n",
              "      <button class=\"colab-df-convert\" onclick=\"convertToInteractive('df-99f402c0-a5b5-454b-a57c-91e69db42787')\"\n",
              "              title=\"Convert this dataframe to an interactive table.\"\n",
              "              style=\"display:none;\">\n",
              "        \n",
              "  <svg xmlns=\"http://www.w3.org/2000/svg\" height=\"24px\"viewBox=\"0 0 24 24\"\n",
              "       width=\"24px\">\n",
              "    <path d=\"M0 0h24v24H0V0z\" fill=\"none\"/>\n",
              "    <path d=\"M18.56 5.44l.94 2.06.94-2.06 2.06-.94-2.06-.94-.94-2.06-.94 2.06-2.06.94zm-11 1L8.5 8.5l.94-2.06 2.06-.94-2.06-.94L8.5 2.5l-.94 2.06-2.06.94zm10 10l.94 2.06.94-2.06 2.06-.94-2.06-.94-.94-2.06-.94 2.06-2.06.94z\"/><path d=\"M17.41 7.96l-1.37-1.37c-.4-.4-.92-.59-1.43-.59-.52 0-1.04.2-1.43.59L10.3 9.45l-7.72 7.72c-.78.78-.78 2.05 0 2.83L4 21.41c.39.39.9.59 1.41.59.51 0 1.02-.2 1.41-.59l7.78-7.78 2.81-2.81c.8-.78.8-2.07 0-2.86zM5.41 20L4 18.59l7.72-7.72 1.47 1.35L5.41 20z\"/>\n",
              "  </svg>\n",
              "      </button>\n",
              "      \n",
              "  <style>\n",
              "    .colab-df-container {\n",
              "      display:flex;\n",
              "      flex-wrap:wrap;\n",
              "      gap: 12px;\n",
              "    }\n",
              "\n",
              "    .colab-df-convert {\n",
              "      background-color: #E8F0FE;\n",
              "      border: none;\n",
              "      border-radius: 50%;\n",
              "      cursor: pointer;\n",
              "      display: none;\n",
              "      fill: #1967D2;\n",
              "      height: 32px;\n",
              "      padding: 0 0 0 0;\n",
              "      width: 32px;\n",
              "    }\n",
              "\n",
              "    .colab-df-convert:hover {\n",
              "      background-color: #E2EBFA;\n",
              "      box-shadow: 0px 1px 2px rgba(60, 64, 67, 0.3), 0px 1px 3px 1px rgba(60, 64, 67, 0.15);\n",
              "      fill: #174EA6;\n",
              "    }\n",
              "\n",
              "    [theme=dark] .colab-df-convert {\n",
              "      background-color: #3B4455;\n",
              "      fill: #D2E3FC;\n",
              "    }\n",
              "\n",
              "    [theme=dark] .colab-df-convert:hover {\n",
              "      background-color: #434B5C;\n",
              "      box-shadow: 0px 1px 3px 1px rgba(0, 0, 0, 0.15);\n",
              "      filter: drop-shadow(0px 1px 2px rgba(0, 0, 0, 0.3));\n",
              "      fill: #FFFFFF;\n",
              "    }\n",
              "  </style>\n",
              "\n",
              "      <script>\n",
              "        const buttonEl =\n",
              "          document.querySelector('#df-99f402c0-a5b5-454b-a57c-91e69db42787 button.colab-df-convert');\n",
              "        buttonEl.style.display =\n",
              "          google.colab.kernel.accessAllowed ? 'block' : 'none';\n",
              "\n",
              "        async function convertToInteractive(key) {\n",
              "          const element = document.querySelector('#df-99f402c0-a5b5-454b-a57c-91e69db42787');\n",
              "          const dataTable =\n",
              "            await google.colab.kernel.invokeFunction('convertToInteractive',\n",
              "                                                     [key], {});\n",
              "          if (!dataTable) return;\n",
              "\n",
              "          const docLinkHtml = 'Like what you see? Visit the ' +\n",
              "            '<a target=\"_blank\" href=https://colab.research.google.com/notebooks/data_table.ipynb>data table notebook</a>'\n",
              "            + ' to learn more about interactive tables.';\n",
              "          element.innerHTML = '';\n",
              "          dataTable['output_type'] = 'display_data';\n",
              "          await google.colab.output.renderOutput(dataTable, element);\n",
              "          const docLink = document.createElement('div');\n",
              "          docLink.innerHTML = docLinkHtml;\n",
              "          element.appendChild(docLink);\n",
              "        }\n",
              "      </script>\n",
              "    </div>\n",
              "  </div>\n",
              "  "
            ]
          },
          "metadata": {},
          "execution_count": 229
        }
      ]
    },
    {
      "cell_type": "code",
      "source": [
        "#Outro problema com os dados. É necessário informar o Pandas que os dados são delimitados por ';'(ponto e vírgula)\n",
        "ac = pd.read_csv('/content/drive/MyDrive/Colab Notebooks/si-bol-2020.csv', delimiter=';', encoding = \"ISO-8859-1\")\n",
        "ac.head()"
      ],
      "metadata": {
        "id": "oHLm73LMLHPc",
        "colab": {
          "base_uri": "https://localhost:8080/",
          "height": 439
        },
        "outputId": "1a1d1346-c7f4-4bd5-b9ad-b1fb7425c10f"
      },
      "execution_count": 230,
      "outputs": [
        {
          "output_type": "execute_result",
          "data": {
            "text/plain": [
              "       NUMERO_BOLETIM  DATA HORA_BOLETIM     DATA_INCLUSAO  TIPO_ACIDENTE  \\\n",
              "0  2020-011831835-001   07/03/2020 06:00  07/03/2020 06:58         H09002   \n",
              "1  2020-011838326-001   07/03/2020 08:27  07/03/2020 08:34         H08002   \n",
              "2  2020-011841962-001   07/03/2020 06:53  07/03/2020 09:19         H08002   \n",
              "3  2020-011849103-001   07/03/2020 10:10  07/03/2020 10:40         H06002   \n",
              "4  2020-011854660-001   07/03/2020 10:48  07/03/2020 11:38         H01002   \n",
              "\n",
              "                                  DESC_TIPO_ACIDENTE   COD_TEMPO  \\\n",
              "0  COLISAO DE VEICULOS COM VITIMA                ...           2   \n",
              "1  CHOQUE MECANICO COM VITIMA                    ...           2   \n",
              "2  CHOQUE MECANICO COM VITIMA                    ...           2   \n",
              "3  ATROPELAMENTO DE PESSOA SEM VITIMA FATAL      ...           0   \n",
              "4  ABALROAMENTO COM VITIMA                       ...           1   \n",
              "\n",
              "        DESC_TEMPO   COD_PAVIMENTO        PAVIMENTO   COD_REGIONAL  ...  \\\n",
              "0  CHUVA                         1  ASFALTO                     25  ...   \n",
              "1  CHUVA                         1  ASFALTO                     23  ...   \n",
              "2  CHUVA                         1  ASFALTO                      0  ...   \n",
              "3  NAO INFORMADO                 0  NAO INFORMADO               25  ...   \n",
              "4  BOM                           1  ASFALTO                     18  ...   \n",
              "\n",
              "   VELOCIDADE_PERMITIDA  COORDENADA_X  COORDENADA_Y   HORA_INFORMADA  \\\n",
              "0                     0     605836.61    7798624.66              SIM   \n",
              "1                    60     610478.49    7810433.11              SIM   \n",
              "2                     0     605990.46    7806661.44              SIM   \n",
              "3                     0          0.00          0.00              SIM   \n",
              "4                     0     600896.61    7789929.77              SIM   \n",
              "\n",
              "    INDICADOR_FATALIDADE   VALOR_UPS  DESCRIÇÃO_UPS  DATA_ALTERACAO_SMSA  \\\n",
              "0                    NÃO           0  NÃO INFORMADO           00/00/0000   \n",
              "1                    NÃO           0  NÃO INFORMADO           00/00/0000   \n",
              "2                    NÃO           0  NÃO INFORMADO           00/00/0000   \n",
              "3                    NÃO           0  NÃO INFORMADO           00/00/0000   \n",
              "4                    NÃO           0  NÃO INFORMADO           00/00/0000   \n",
              "\n",
              "    VALOR_UPS_ANTIGA  DESCRIÇÃO_UPS_ANTIGA  \n",
              "0                  0         NÃO INFORMADO  \n",
              "1                  0         NÃO INFORMADO  \n",
              "2                  0         NÃO INFORMADO  \n",
              "3                  0         NÃO INFORMADO  \n",
              "4                  0         NÃO INFORMADO  \n",
              "\n",
              "[5 rows x 23 columns]"
            ],
            "text/html": [
              "\n",
              "  <div id=\"df-000094ba-1c76-4582-b8fe-ba2bf4076180\">\n",
              "    <div class=\"colab-df-container\">\n",
              "      <div>\n",
              "<style scoped>\n",
              "    .dataframe tbody tr th:only-of-type {\n",
              "        vertical-align: middle;\n",
              "    }\n",
              "\n",
              "    .dataframe tbody tr th {\n",
              "        vertical-align: top;\n",
              "    }\n",
              "\n",
              "    .dataframe thead th {\n",
              "        text-align: right;\n",
              "    }\n",
              "</style>\n",
              "<table border=\"1\" class=\"dataframe\">\n",
              "  <thead>\n",
              "    <tr style=\"text-align: right;\">\n",
              "      <th></th>\n",
              "      <th>NUMERO_BOLETIM</th>\n",
              "      <th>DATA HORA_BOLETIM</th>\n",
              "      <th>DATA_INCLUSAO</th>\n",
              "      <th>TIPO_ACIDENTE</th>\n",
              "      <th>DESC_TIPO_ACIDENTE</th>\n",
              "      <th>COD_TEMPO</th>\n",
              "      <th>DESC_TEMPO</th>\n",
              "      <th>COD_PAVIMENTO</th>\n",
              "      <th>PAVIMENTO</th>\n",
              "      <th>COD_REGIONAL</th>\n",
              "      <th>...</th>\n",
              "      <th>VELOCIDADE_PERMITIDA</th>\n",
              "      <th>COORDENADA_X</th>\n",
              "      <th>COORDENADA_Y</th>\n",
              "      <th>HORA_INFORMADA</th>\n",
              "      <th>INDICADOR_FATALIDADE</th>\n",
              "      <th>VALOR_UPS</th>\n",
              "      <th>DESCRIÇÃO_UPS</th>\n",
              "      <th>DATA_ALTERACAO_SMSA</th>\n",
              "      <th>VALOR_UPS_ANTIGA</th>\n",
              "      <th>DESCRIÇÃO_UPS_ANTIGA</th>\n",
              "    </tr>\n",
              "  </thead>\n",
              "  <tbody>\n",
              "    <tr>\n",
              "      <th>0</th>\n",
              "      <td>2020-011831835-001</td>\n",
              "      <td>07/03/2020 06:00</td>\n",
              "      <td>07/03/2020 06:58</td>\n",
              "      <td>H09002</td>\n",
              "      <td>COLISAO DE VEICULOS COM VITIMA                ...</td>\n",
              "      <td>2</td>\n",
              "      <td>CHUVA</td>\n",
              "      <td>1</td>\n",
              "      <td>ASFALTO</td>\n",
              "      <td>25</td>\n",
              "      <td>...</td>\n",
              "      <td>0</td>\n",
              "      <td>605836.61</td>\n",
              "      <td>7798624.66</td>\n",
              "      <td>SIM</td>\n",
              "      <td>NÃO</td>\n",
              "      <td>0</td>\n",
              "      <td>NÃO INFORMADO</td>\n",
              "      <td>00/00/0000</td>\n",
              "      <td>0</td>\n",
              "      <td>NÃO INFORMADO</td>\n",
              "    </tr>\n",
              "    <tr>\n",
              "      <th>1</th>\n",
              "      <td>2020-011838326-001</td>\n",
              "      <td>07/03/2020 08:27</td>\n",
              "      <td>07/03/2020 08:34</td>\n",
              "      <td>H08002</td>\n",
              "      <td>CHOQUE MECANICO COM VITIMA                    ...</td>\n",
              "      <td>2</td>\n",
              "      <td>CHUVA</td>\n",
              "      <td>1</td>\n",
              "      <td>ASFALTO</td>\n",
              "      <td>23</td>\n",
              "      <td>...</td>\n",
              "      <td>60</td>\n",
              "      <td>610478.49</td>\n",
              "      <td>7810433.11</td>\n",
              "      <td>SIM</td>\n",
              "      <td>NÃO</td>\n",
              "      <td>0</td>\n",
              "      <td>NÃO INFORMADO</td>\n",
              "      <td>00/00/0000</td>\n",
              "      <td>0</td>\n",
              "      <td>NÃO INFORMADO</td>\n",
              "    </tr>\n",
              "    <tr>\n",
              "      <th>2</th>\n",
              "      <td>2020-011841962-001</td>\n",
              "      <td>07/03/2020 06:53</td>\n",
              "      <td>07/03/2020 09:19</td>\n",
              "      <td>H08002</td>\n",
              "      <td>CHOQUE MECANICO COM VITIMA                    ...</td>\n",
              "      <td>2</td>\n",
              "      <td>CHUVA</td>\n",
              "      <td>1</td>\n",
              "      <td>ASFALTO</td>\n",
              "      <td>0</td>\n",
              "      <td>...</td>\n",
              "      <td>0</td>\n",
              "      <td>605990.46</td>\n",
              "      <td>7806661.44</td>\n",
              "      <td>SIM</td>\n",
              "      <td>NÃO</td>\n",
              "      <td>0</td>\n",
              "      <td>NÃO INFORMADO</td>\n",
              "      <td>00/00/0000</td>\n",
              "      <td>0</td>\n",
              "      <td>NÃO INFORMADO</td>\n",
              "    </tr>\n",
              "    <tr>\n",
              "      <th>3</th>\n",
              "      <td>2020-011849103-001</td>\n",
              "      <td>07/03/2020 10:10</td>\n",
              "      <td>07/03/2020 10:40</td>\n",
              "      <td>H06002</td>\n",
              "      <td>ATROPELAMENTO DE PESSOA SEM VITIMA FATAL      ...</td>\n",
              "      <td>0</td>\n",
              "      <td>NAO INFORMADO</td>\n",
              "      <td>0</td>\n",
              "      <td>NAO INFORMADO</td>\n",
              "      <td>25</td>\n",
              "      <td>...</td>\n",
              "      <td>0</td>\n",
              "      <td>0.00</td>\n",
              "      <td>0.00</td>\n",
              "      <td>SIM</td>\n",
              "      <td>NÃO</td>\n",
              "      <td>0</td>\n",
              "      <td>NÃO INFORMADO</td>\n",
              "      <td>00/00/0000</td>\n",
              "      <td>0</td>\n",
              "      <td>NÃO INFORMADO</td>\n",
              "    </tr>\n",
              "    <tr>\n",
              "      <th>4</th>\n",
              "      <td>2020-011854660-001</td>\n",
              "      <td>07/03/2020 10:48</td>\n",
              "      <td>07/03/2020 11:38</td>\n",
              "      <td>H01002</td>\n",
              "      <td>ABALROAMENTO COM VITIMA                       ...</td>\n",
              "      <td>1</td>\n",
              "      <td>BOM</td>\n",
              "      <td>1</td>\n",
              "      <td>ASFALTO</td>\n",
              "      <td>18</td>\n",
              "      <td>...</td>\n",
              "      <td>0</td>\n",
              "      <td>600896.61</td>\n",
              "      <td>7789929.77</td>\n",
              "      <td>SIM</td>\n",
              "      <td>NÃO</td>\n",
              "      <td>0</td>\n",
              "      <td>NÃO INFORMADO</td>\n",
              "      <td>00/00/0000</td>\n",
              "      <td>0</td>\n",
              "      <td>NÃO INFORMADO</td>\n",
              "    </tr>\n",
              "  </tbody>\n",
              "</table>\n",
              "<p>5 rows × 23 columns</p>\n",
              "</div>\n",
              "      <button class=\"colab-df-convert\" onclick=\"convertToInteractive('df-000094ba-1c76-4582-b8fe-ba2bf4076180')\"\n",
              "              title=\"Convert this dataframe to an interactive table.\"\n",
              "              style=\"display:none;\">\n",
              "        \n",
              "  <svg xmlns=\"http://www.w3.org/2000/svg\" height=\"24px\"viewBox=\"0 0 24 24\"\n",
              "       width=\"24px\">\n",
              "    <path d=\"M0 0h24v24H0V0z\" fill=\"none\"/>\n",
              "    <path d=\"M18.56 5.44l.94 2.06.94-2.06 2.06-.94-2.06-.94-.94-2.06-.94 2.06-2.06.94zm-11 1L8.5 8.5l.94-2.06 2.06-.94-2.06-.94L8.5 2.5l-.94 2.06-2.06.94zm10 10l.94 2.06.94-2.06 2.06-.94-2.06-.94-.94-2.06-.94 2.06-2.06.94z\"/><path d=\"M17.41 7.96l-1.37-1.37c-.4-.4-.92-.59-1.43-.59-.52 0-1.04.2-1.43.59L10.3 9.45l-7.72 7.72c-.78.78-.78 2.05 0 2.83L4 21.41c.39.39.9.59 1.41.59.51 0 1.02-.2 1.41-.59l7.78-7.78 2.81-2.81c.8-.78.8-2.07 0-2.86zM5.41 20L4 18.59l7.72-7.72 1.47 1.35L5.41 20z\"/>\n",
              "  </svg>\n",
              "      </button>\n",
              "      \n",
              "  <style>\n",
              "    .colab-df-container {\n",
              "      display:flex;\n",
              "      flex-wrap:wrap;\n",
              "      gap: 12px;\n",
              "    }\n",
              "\n",
              "    .colab-df-convert {\n",
              "      background-color: #E8F0FE;\n",
              "      border: none;\n",
              "      border-radius: 50%;\n",
              "      cursor: pointer;\n",
              "      display: none;\n",
              "      fill: #1967D2;\n",
              "      height: 32px;\n",
              "      padding: 0 0 0 0;\n",
              "      width: 32px;\n",
              "    }\n",
              "\n",
              "    .colab-df-convert:hover {\n",
              "      background-color: #E2EBFA;\n",
              "      box-shadow: 0px 1px 2px rgba(60, 64, 67, 0.3), 0px 1px 3px 1px rgba(60, 64, 67, 0.15);\n",
              "      fill: #174EA6;\n",
              "    }\n",
              "\n",
              "    [theme=dark] .colab-df-convert {\n",
              "      background-color: #3B4455;\n",
              "      fill: #D2E3FC;\n",
              "    }\n",
              "\n",
              "    [theme=dark] .colab-df-convert:hover {\n",
              "      background-color: #434B5C;\n",
              "      box-shadow: 0px 1px 3px 1px rgba(0, 0, 0, 0.15);\n",
              "      filter: drop-shadow(0px 1px 2px rgba(0, 0, 0, 0.3));\n",
              "      fill: #FFFFFF;\n",
              "    }\n",
              "  </style>\n",
              "\n",
              "      <script>\n",
              "        const buttonEl =\n",
              "          document.querySelector('#df-000094ba-1c76-4582-b8fe-ba2bf4076180 button.colab-df-convert');\n",
              "        buttonEl.style.display =\n",
              "          google.colab.kernel.accessAllowed ? 'block' : 'none';\n",
              "\n",
              "        async function convertToInteractive(key) {\n",
              "          const element = document.querySelector('#df-000094ba-1c76-4582-b8fe-ba2bf4076180');\n",
              "          const dataTable =\n",
              "            await google.colab.kernel.invokeFunction('convertToInteractive',\n",
              "                                                     [key], {});\n",
              "          if (!dataTable) return;\n",
              "\n",
              "          const docLinkHtml = 'Like what you see? Visit the ' +\n",
              "            '<a target=\"_blank\" href=https://colab.research.google.com/notebooks/data_table.ipynb>data table notebook</a>'\n",
              "            + ' to learn more about interactive tables.';\n",
              "          element.innerHTML = '';\n",
              "          dataTable['output_type'] = 'display_data';\n",
              "          await google.colab.output.renderOutput(dataTable, element);\n",
              "          const docLink = document.createElement('div');\n",
              "          docLink.innerHTML = docLinkHtml;\n",
              "          element.appendChild(docLink);\n",
              "        }\n",
              "      </script>\n",
              "    </div>\n",
              "  </div>\n",
              "  "
            ]
          },
          "metadata": {},
          "execution_count": 230
        }
      ]
    },
    {
      "cell_type": "code",
      "source": [
        "#A qualquer momento podemos visualizar qual o tipo do arquivo que estamos manipulando\n",
        "#e também informações das variáveis\n",
        "type(ac)\n",
        "ac.info()"
      ],
      "metadata": {
        "id": "osRfT_OEQP8J",
        "colab": {
          "base_uri": "https://localhost:8080/"
        },
        "outputId": "61da90d2-3f1e-4bcf-ddfe-34a8bd62bf3e"
      },
      "execution_count": 231,
      "outputs": [
        {
          "output_type": "stream",
          "name": "stdout",
          "text": [
            "<class 'pandas.core.frame.DataFrame'>\n",
            "RangeIndex: 10624 entries, 0 to 10623\n",
            "Data columns (total 23 columns):\n",
            " #   Column                 Non-Null Count  Dtype  \n",
            "---  ------                 --------------  -----  \n",
            " 0    NUMERO_BOLETIM        10624 non-null  object \n",
            " 1    DATA HORA_BOLETIM     10624 non-null  object \n",
            " 2    DATA_INCLUSAO         10624 non-null  object \n",
            " 3    TIPO_ACIDENTE         10624 non-null  object \n",
            " 4    DESC_TIPO_ACIDENTE    10624 non-null  object \n",
            " 5    COD_TEMPO             10624 non-null  int64  \n",
            " 6    DESC_TEMPO            10624 non-null  object \n",
            " 7    COD_PAVIMENTO         10624 non-null  int64  \n",
            " 8    PAVIMENTO             10624 non-null  object \n",
            " 9    COD_REGIONAL          10624 non-null  int64  \n",
            " 10   DESC_REGIONAL         10624 non-null  object \n",
            " 11   ORIGEM_BOLETIM        10624 non-null  object \n",
            " 12   LOCAL_SINALIZADO      10624 non-null  object \n",
            " 13   VELOCIDADE_PERMITIDA  10624 non-null  int64  \n",
            " 14   COORDENADA_X          10624 non-null  float64\n",
            " 15   COORDENADA_Y          10624 non-null  float64\n",
            " 16   HORA_INFORMADA        10624 non-null  object \n",
            " 17   INDICADOR_FATALIDADE  10624 non-null  object \n",
            " 18   VALOR_UPS             10624 non-null  int64  \n",
            " 19   DESCRIÇÃO_UPS         10624 non-null  object \n",
            " 20   DATA_ALTERACAO_SMSA   10624 non-null  object \n",
            " 21   VALOR_UPS_ANTIGA      10624 non-null  int64  \n",
            " 22   DESCRIÇÃO_UPS_ANTIGA  10624 non-null  object \n",
            "dtypes: float64(2), int64(6), object(15)\n",
            "memory usage: 1.9+ MB\n"
          ]
        }
      ]
    },
    {
      "cell_type": "code",
      "source": [
        "#Ainda sobre o tipo de variável, podemos usar a função .dtypes\n",
        "ac.dtypes"
      ],
      "metadata": {
        "id": "RBAItnx7STt6",
        "colab": {
          "base_uri": "https://localhost:8080/"
        },
        "outputId": "0b7cecc0-5d20-4c75-e644-278d480fb6ea"
      },
      "execution_count": 232,
      "outputs": [
        {
          "output_type": "execute_result",
          "data": {
            "text/plain": [
              " NUMERO_BOLETIM           object\n",
              " DATA HORA_BOLETIM        object\n",
              " DATA_INCLUSAO            object\n",
              " TIPO_ACIDENTE            object\n",
              " DESC_TIPO_ACIDENTE       object\n",
              " COD_TEMPO                 int64\n",
              " DESC_TEMPO               object\n",
              " COD_PAVIMENTO             int64\n",
              " PAVIMENTO                object\n",
              " COD_REGIONAL              int64\n",
              " DESC_REGIONAL            object\n",
              " ORIGEM_BOLETIM           object\n",
              " LOCAL_SINALIZADO         object\n",
              " VELOCIDADE_PERMITIDA      int64\n",
              " COORDENADA_X            float64\n",
              " COORDENADA_Y            float64\n",
              " HORA_INFORMADA           object\n",
              " INDICADOR_FATALIDADE     object\n",
              " VALOR_UPS                 int64\n",
              " DESCRIÇÃO_UPS            object\n",
              " DATA_ALTERACAO_SMSA      object\n",
              " VALOR_UPS_ANTIGA          int64\n",
              " DESCRIÇÃO_UPS_ANTIGA     object\n",
              "dtype: object"
            ]
          },
          "metadata": {},
          "execution_count": 232
        }
      ]
    },
    {
      "cell_type": "code",
      "source": [
        "#Vamos verificar todas as colunas que tem o BD\n",
        "print(ac.columns)\n",
        "#Podemos fazer a leitura de colunas específicas.\n",
        "print(ac['TIPO_ACIDENTE'])"
      ],
      "metadata": {
        "id": "gyMrL-OGMaUj",
        "colab": {
          "base_uri": "https://localhost:8080/",
          "height": 674
        },
        "outputId": "9349a23b-40b1-4865-acce-64e46bfe0131"
      },
      "execution_count": 233,
      "outputs": [
        {
          "output_type": "stream",
          "name": "stdout",
          "text": [
            "Index([' NUMERO_BOLETIM', ' DATA HORA_BOLETIM', ' DATA_INCLUSAO',\n",
            "       ' TIPO_ACIDENTE', ' DESC_TIPO_ACIDENTE', ' COD_TEMPO', ' DESC_TEMPO',\n",
            "       ' COD_PAVIMENTO', ' PAVIMENTO', ' COD_REGIONAL', ' DESC_REGIONAL',\n",
            "       ' ORIGEM_BOLETIM', ' LOCAL_SINALIZADO', ' VELOCIDADE_PERMITIDA',\n",
            "       ' COORDENADA_X', ' COORDENADA_Y', ' HORA_INFORMADA',\n",
            "       ' INDICADOR_FATALIDADE', ' VALOR_UPS', ' DESCRIÇÃO_UPS',\n",
            "       ' DATA_ALTERACAO_SMSA', ' VALOR_UPS_ANTIGA', ' DESCRIÇÃO_UPS_ANTIGA'],\n",
            "      dtype='object')\n"
          ]
        },
        {
          "output_type": "error",
          "ename": "KeyError",
          "evalue": "ignored",
          "traceback": [
            "\u001b[0;31m---------------------------------------------------------------------------\u001b[0m",
            "\u001b[0;31mKeyError\u001b[0m                                  Traceback (most recent call last)",
            "\u001b[0;32m/usr/local/lib/python3.7/dist-packages/pandas/core/indexes/base.py\u001b[0m in \u001b[0;36mget_loc\u001b[0;34m(self, key, method, tolerance)\u001b[0m\n\u001b[1;32m   3360\u001b[0m             \u001b[0;32mtry\u001b[0m\u001b[0;34m:\u001b[0m\u001b[0;34m\u001b[0m\u001b[0;34m\u001b[0m\u001b[0m\n\u001b[0;32m-> 3361\u001b[0;31m                 \u001b[0;32mreturn\u001b[0m \u001b[0mself\u001b[0m\u001b[0;34m.\u001b[0m\u001b[0m_engine\u001b[0m\u001b[0;34m.\u001b[0m\u001b[0mget_loc\u001b[0m\u001b[0;34m(\u001b[0m\u001b[0mcasted_key\u001b[0m\u001b[0;34m)\u001b[0m\u001b[0;34m\u001b[0m\u001b[0;34m\u001b[0m\u001b[0m\n\u001b[0m\u001b[1;32m   3362\u001b[0m             \u001b[0;32mexcept\u001b[0m \u001b[0mKeyError\u001b[0m \u001b[0;32mas\u001b[0m \u001b[0merr\u001b[0m\u001b[0;34m:\u001b[0m\u001b[0;34m\u001b[0m\u001b[0;34m\u001b[0m\u001b[0m\n",
            "\u001b[0;32m/usr/local/lib/python3.7/dist-packages/pandas/_libs/index.pyx\u001b[0m in \u001b[0;36mpandas._libs.index.IndexEngine.get_loc\u001b[0;34m()\u001b[0m\n",
            "\u001b[0;32m/usr/local/lib/python3.7/dist-packages/pandas/_libs/index.pyx\u001b[0m in \u001b[0;36mpandas._libs.index.IndexEngine.get_loc\u001b[0;34m()\u001b[0m\n",
            "\u001b[0;32mpandas/_libs/hashtable_class_helper.pxi\u001b[0m in \u001b[0;36mpandas._libs.hashtable.PyObjectHashTable.get_item\u001b[0;34m()\u001b[0m\n",
            "\u001b[0;32mpandas/_libs/hashtable_class_helper.pxi\u001b[0m in \u001b[0;36mpandas._libs.hashtable.PyObjectHashTable.get_item\u001b[0;34m()\u001b[0m\n",
            "\u001b[0;31mKeyError\u001b[0m: 'TIPO_ACIDENTE'",
            "\nThe above exception was the direct cause of the following exception:\n",
            "\u001b[0;31mKeyError\u001b[0m                                  Traceback (most recent call last)",
            "\u001b[0;32m<ipython-input-233-d7f30b44a3a1>\u001b[0m in \u001b[0;36m<module>\u001b[0;34m()\u001b[0m\n\u001b[1;32m      2\u001b[0m \u001b[0mprint\u001b[0m\u001b[0;34m(\u001b[0m\u001b[0mac\u001b[0m\u001b[0;34m.\u001b[0m\u001b[0mcolumns\u001b[0m\u001b[0;34m)\u001b[0m\u001b[0;34m\u001b[0m\u001b[0;34m\u001b[0m\u001b[0m\n\u001b[1;32m      3\u001b[0m \u001b[0;31m#Podemos fazer a leitura de colunas específicas.\u001b[0m\u001b[0;34m\u001b[0m\u001b[0;34m\u001b[0m\u001b[0;34m\u001b[0m\u001b[0m\n\u001b[0;32m----> 4\u001b[0;31m \u001b[0mprint\u001b[0m\u001b[0;34m(\u001b[0m\u001b[0mac\u001b[0m\u001b[0;34m[\u001b[0m\u001b[0;34m'TIPO_ACIDENTE'\u001b[0m\u001b[0;34m]\u001b[0m\u001b[0;34m)\u001b[0m\u001b[0;34m\u001b[0m\u001b[0;34m\u001b[0m\u001b[0m\n\u001b[0m",
            "\u001b[0;32m/usr/local/lib/python3.7/dist-packages/pandas/core/frame.py\u001b[0m in \u001b[0;36m__getitem__\u001b[0;34m(self, key)\u001b[0m\n\u001b[1;32m   3456\u001b[0m             \u001b[0;32mif\u001b[0m \u001b[0mself\u001b[0m\u001b[0;34m.\u001b[0m\u001b[0mcolumns\u001b[0m\u001b[0;34m.\u001b[0m\u001b[0mnlevels\u001b[0m \u001b[0;34m>\u001b[0m \u001b[0;36m1\u001b[0m\u001b[0;34m:\u001b[0m\u001b[0;34m\u001b[0m\u001b[0;34m\u001b[0m\u001b[0m\n\u001b[1;32m   3457\u001b[0m                 \u001b[0;32mreturn\u001b[0m \u001b[0mself\u001b[0m\u001b[0;34m.\u001b[0m\u001b[0m_getitem_multilevel\u001b[0m\u001b[0;34m(\u001b[0m\u001b[0mkey\u001b[0m\u001b[0;34m)\u001b[0m\u001b[0;34m\u001b[0m\u001b[0;34m\u001b[0m\u001b[0m\n\u001b[0;32m-> 3458\u001b[0;31m             \u001b[0mindexer\u001b[0m \u001b[0;34m=\u001b[0m \u001b[0mself\u001b[0m\u001b[0;34m.\u001b[0m\u001b[0mcolumns\u001b[0m\u001b[0;34m.\u001b[0m\u001b[0mget_loc\u001b[0m\u001b[0;34m(\u001b[0m\u001b[0mkey\u001b[0m\u001b[0;34m)\u001b[0m\u001b[0;34m\u001b[0m\u001b[0;34m\u001b[0m\u001b[0m\n\u001b[0m\u001b[1;32m   3459\u001b[0m             \u001b[0;32mif\u001b[0m \u001b[0mis_integer\u001b[0m\u001b[0;34m(\u001b[0m\u001b[0mindexer\u001b[0m\u001b[0;34m)\u001b[0m\u001b[0;34m:\u001b[0m\u001b[0;34m\u001b[0m\u001b[0;34m\u001b[0m\u001b[0m\n\u001b[1;32m   3460\u001b[0m                 \u001b[0mindexer\u001b[0m \u001b[0;34m=\u001b[0m \u001b[0;34m[\u001b[0m\u001b[0mindexer\u001b[0m\u001b[0;34m]\u001b[0m\u001b[0;34m\u001b[0m\u001b[0;34m\u001b[0m\u001b[0m\n",
            "\u001b[0;32m/usr/local/lib/python3.7/dist-packages/pandas/core/indexes/base.py\u001b[0m in \u001b[0;36mget_loc\u001b[0;34m(self, key, method, tolerance)\u001b[0m\n\u001b[1;32m   3361\u001b[0m                 \u001b[0;32mreturn\u001b[0m \u001b[0mself\u001b[0m\u001b[0;34m.\u001b[0m\u001b[0m_engine\u001b[0m\u001b[0;34m.\u001b[0m\u001b[0mget_loc\u001b[0m\u001b[0;34m(\u001b[0m\u001b[0mcasted_key\u001b[0m\u001b[0;34m)\u001b[0m\u001b[0;34m\u001b[0m\u001b[0;34m\u001b[0m\u001b[0m\n\u001b[1;32m   3362\u001b[0m             \u001b[0;32mexcept\u001b[0m \u001b[0mKeyError\u001b[0m \u001b[0;32mas\u001b[0m \u001b[0merr\u001b[0m\u001b[0;34m:\u001b[0m\u001b[0;34m\u001b[0m\u001b[0;34m\u001b[0m\u001b[0m\n\u001b[0;32m-> 3363\u001b[0;31m                 \u001b[0;32mraise\u001b[0m \u001b[0mKeyError\u001b[0m\u001b[0;34m(\u001b[0m\u001b[0mkey\u001b[0m\u001b[0;34m)\u001b[0m \u001b[0;32mfrom\u001b[0m \u001b[0merr\u001b[0m\u001b[0;34m\u001b[0m\u001b[0;34m\u001b[0m\u001b[0m\n\u001b[0m\u001b[1;32m   3364\u001b[0m \u001b[0;34m\u001b[0m\u001b[0m\n\u001b[1;32m   3365\u001b[0m         \u001b[0;32mif\u001b[0m \u001b[0mis_scalar\u001b[0m\u001b[0;34m(\u001b[0m\u001b[0mkey\u001b[0m\u001b[0;34m)\u001b[0m \u001b[0;32mand\u001b[0m \u001b[0misna\u001b[0m\u001b[0;34m(\u001b[0m\u001b[0mkey\u001b[0m\u001b[0;34m)\u001b[0m \u001b[0;32mand\u001b[0m \u001b[0;32mnot\u001b[0m \u001b[0mself\u001b[0m\u001b[0;34m.\u001b[0m\u001b[0mhasnans\u001b[0m\u001b[0;34m:\u001b[0m\u001b[0;34m\u001b[0m\u001b[0;34m\u001b[0m\u001b[0m\n",
            "\u001b[0;31mKeyError\u001b[0m: 'TIPO_ACIDENTE'"
          ]
        }
      ]
    },
    {
      "cell_type": "markdown",
      "source": [
        "##Alterando campos de uma base de dados\n",
        "A documentação do Pandas para renomear campos [Rename](https://pandas.pydata.org/pandas-docs/stable/reference/api/pandas.DataFrame.rename.html)"
      ],
      "metadata": {
        "id": "g03o5GSLPOw2"
      }
    },
    {
      "cell_type": "code",
      "source": [
        "#Renomeando todas as colunas do DataFrame. Existe a opção de manter os dados originais na variável ac\n",
        "#e fazer o rename em uma nova variável, mas optei por salvar na mesma variável (inplace)\n",
        "ac.rename(columns={' NUMERO_BOLETIM': 'NUMERO_BOLETIM', ' DATA HORA_BOLETIM':'DATA HORA_BOLETIM', \n",
        "                   ' DATA_INCLUSAO': 'DATA_INCLUSAO', ' TIPO_ACIDENTE':'TIPO_ACIDENTE', \n",
        "                   ' DESC_TIPO_ACIDENTE':'DESC_TIPO_ACIDENTE', ' COD_TEMPO':'COD_TEMPO', \n",
        "                   ' DESC_TEMPO':'DESC_TEMPO', ' COD_PAVIMENTO':'COD_PAVIMENTO', \n",
        "                   ' PAVIMENTO': 'PAVIMENTO', ' COD_REGIONAL':'COD_REGIONAL', \n",
        "                   ' DESC_REGIONAL':'DESC_REGIONAL', ' ORIGEM_BOLETIM':'ORIGEM_BOLETIM', \n",
        "                   ' LOCAL_SINALIZADO':'LOCAL_SINALIZADO', ' VELOCIDADE_PERMITIDA':'VELOCIDADE_PERMITIDA', \n",
        "                   ' COORDENADA_X':'COORDENADA_X', ' COORDENADA_Y':'COORDENADA_Y', \n",
        "                   ' HORA_INFORMADA':'HORA_INFORMADA', ' INDICADOR_FATALIDADE':'INDICADOR_FATALIDADE', \n",
        "                   ' VALOR_UPS':'VALOR_UPS', ' DESCRIÇÃO_UPS':'DESCRIÇÃO_UPS', \n",
        "                   ' DATA_ALTERACAO_SMSA':'DATA_ALTERACAO_SMSA', ' VALOR_UPS_ANTIGA':'VALOR_UPS_ANTIGA', \n",
        "                   ' DESCRIÇÃO_UPS_ANTIGA':'DESCRIÇÃO_UPS_ANTIGA'}, inplace = True)\n",
        "\n",
        "print(ac.columns)"
      ],
      "metadata": {
        "id": "ky66SKuPM_Mb",
        "colab": {
          "base_uri": "https://localhost:8080/"
        },
        "outputId": "abeb43ec-f687-4b62-eff1-2545fda670fe"
      },
      "execution_count": 234,
      "outputs": [
        {
          "output_type": "stream",
          "name": "stdout",
          "text": [
            "Index(['NUMERO_BOLETIM', 'DATA HORA_BOLETIM', 'DATA_INCLUSAO', 'TIPO_ACIDENTE',\n",
            "       'DESC_TIPO_ACIDENTE', 'COD_TEMPO', 'DESC_TEMPO', 'COD_PAVIMENTO',\n",
            "       'PAVIMENTO', 'COD_REGIONAL', 'DESC_REGIONAL', 'ORIGEM_BOLETIM',\n",
            "       'LOCAL_SINALIZADO', 'VELOCIDADE_PERMITIDA', 'COORDENADA_X',\n",
            "       'COORDENADA_Y', 'HORA_INFORMADA', 'INDICADOR_FATALIDADE', 'VALOR_UPS',\n",
            "       'DESCRIÇÃO_UPS', 'DATA_ALTERACAO_SMSA', 'VALOR_UPS_ANTIGA',\n",
            "       'DESCRIÇÃO_UPS_ANTIGA'],\n",
            "      dtype='object')\n"
          ]
        }
      ]
    },
    {
      "cell_type": "code",
      "source": [
        "#Outra forma de modificar o nome dos campos, mais simples inclusive, é apenas \n",
        "#passando a lista de nomes que você deseja mudar na BD.\n",
        "ac.columns = ['NUMERO_BOLETIM', 'DATA HORA_BOLETIM', 'DATA_INCLUSAO', 'TIPO_ACIDENTE',\n",
        "              'DESC_TIPO_ACIDENTE', 'COD_TEMPO', 'DESC_TEMPO', 'COD_PAVIMENTO',\n",
        "              'PAVIMENTO', 'COD_REGIONAL', 'DESC_REGIONAL', 'ORIGEM_BOLETIM',\n",
        "              'LOCAL_SINALIZADO', 'VELOCIDADE_PERMITIDA', 'COORDENADA_X',\n",
        "              'COORDENADA_Y', 'HORA_INFORMADA', 'INDICADOR_FATALIDADE', 'VALOR_UPS',\n",
        "              'DESCRIÇÃO_UPS', 'DATA_ALTERACAO_SMSA', 'VALOR_UPS_ANTIGA', 'DESCRIÇÃO_UPS_ANTIGA']\n",
        "\n",
        "print(ac[['DESC_TIPO_ACIDENTE','DESC_TEMPO']])"
      ],
      "metadata": {
        "id": "X1gkvOitS1f2",
        "colab": {
          "base_uri": "https://localhost:8080/"
        },
        "outputId": "9dd5bc93-73c9-465c-fcf9-735626487685"
      },
      "execution_count": 235,
      "outputs": [
        {
          "output_type": "stream",
          "name": "stdout",
          "text": [
            "                                      DESC_TIPO_ACIDENTE       DESC_TEMPO\n",
            "0      COLISAO DE VEICULOS COM VITIMA                ...  CHUVA          \n",
            "1      CHOQUE MECANICO COM VITIMA                    ...  CHUVA          \n",
            "2      CHOQUE MECANICO COM VITIMA                    ...  CHUVA          \n",
            "3      ATROPELAMENTO DE PESSOA SEM VITIMA FATAL      ...  NAO INFORMADO  \n",
            "4      ABALROAMENTO COM VITIMA                       ...  BOM            \n",
            "...                                                  ...              ...\n",
            "10619  ABALROAMENTO COM VITIMA                       ...  NAO INFORMADO  \n",
            "10620  CAPOTAMENTO/TOMBAMENTO COM VITIMA             ...  BOM            \n",
            "10621  ABALROAMENTO COM VITIMA                       ...  BOM            \n",
            "10622  ABALROAMENTO COM VITIMA                       ...  BOM            \n",
            "10623  ABALROAMENTO COM VITIMA                       ...  NAO INFORMADO  \n",
            "\n",
            "[10624 rows x 2 columns]\n"
          ]
        }
      ]
    },
    {
      "cell_type": "markdown",
      "source": [
        "###Extraindo espaços\n",
        "Uma forma mais elegante e menos trabalhosa é utilizando a função [.strip()](https://pandas.pydata.org/pandas-docs/version/0.24/reference/api/pandas.Series.str.strip.html)"
      ],
      "metadata": {
        "id": "CQU-AUacTO3q"
      }
    },
    {
      "cell_type": "code",
      "source": [
        "ac.columns = ac.columns.str.strip()\n",
        "ac.columns"
      ],
      "metadata": {
        "colab": {
          "base_uri": "https://localhost:8080/"
        },
        "id": "eM1vrikKSz8D",
        "outputId": "3859428c-e014-4048-d8d6-9b5da1e50de8"
      },
      "execution_count": 236,
      "outputs": [
        {
          "output_type": "execute_result",
          "data": {
            "text/plain": [
              "Index(['NUMERO_BOLETIM', 'DATA HORA_BOLETIM', 'DATA_INCLUSAO', 'TIPO_ACIDENTE',\n",
              "       'DESC_TIPO_ACIDENTE', 'COD_TEMPO', 'DESC_TEMPO', 'COD_PAVIMENTO',\n",
              "       'PAVIMENTO', 'COD_REGIONAL', 'DESC_REGIONAL', 'ORIGEM_BOLETIM',\n",
              "       'LOCAL_SINALIZADO', 'VELOCIDADE_PERMITIDA', 'COORDENADA_X',\n",
              "       'COORDENADA_Y', 'HORA_INFORMADA', 'INDICADOR_FATALIDADE', 'VALOR_UPS',\n",
              "       'DESCRIÇÃO_UPS', 'DATA_ALTERACAO_SMSA', 'VALOR_UPS_ANTIGA',\n",
              "       'DESCRIÇÃO_UPS_ANTIGA'],\n",
              "      dtype='object')"
            ]
          },
          "metadata": {},
          "execution_count": 236
        }
      ]
    },
    {
      "cell_type": "markdown",
      "source": [
        "##Localizar um valor específico no BD\n",
        "Antes de localizar um valor específico na nossa BD, podemos fazer uma lista com todos os valores existentes naquele campo, ou seja, tirar os valores duplicados (existe uma função equivalente no excel). Uma das formas de tirar os valores duplicados é a função [drop_duplicates](https://pandas.pydata.org/docs/reference/api/pandas.DataFrame.drop_duplicates.html)\n",
        "O link para a documentação da função [loc](https://pandas.pydata.org/docs/reference/api/pandas.Series.loc.html) "
      ],
      "metadata": {
        "id": "NN3nQNYhmg6j"
      }
    },
    {
      "cell_type": "code",
      "source": [
        "#Extraindo uma lista com  todos os valores disponíveis\n",
        "ac['DESC_TIPO_ACIDENTE'].drop_duplicates()\n",
        "lista_acidentes = ac['DESC_TIPO_ACIDENTE'].drop_duplicates()\n",
        "df = lista_acidentes.str.strip()\n",
        "lista_acidentes = pd.Series(data=df)\n",
        "lista_acidentes.index = list(range(len(lista_acidentes)))\n",
        "lista_acidentes"
      ],
      "metadata": {
        "colab": {
          "base_uri": "https://localhost:8080/"
        },
        "id": "2ki9eo-KXbF9",
        "outputId": "a260d82a-dcc0-4e03-cbf6-459b0b772334"
      },
      "execution_count": 237,
      "outputs": [
        {
          "output_type": "execute_result",
          "data": {
            "text/plain": [
              "0              COLISAO DE VEICULOS COM VITIMA\n",
              "1                  CHOQUE MECANICO COM VITIMA\n",
              "2    ATROPELAMENTO DE PESSOA SEM VITIMA FATAL\n",
              "3                     ABALROAMENTO COM VITIMA\n",
              "4    ATROPELAMENTO DE PESSOA COM VITIMA FATAL\n",
              "5           CAPOTAMENTO/TOMBAMENTO COM VITIMA\n",
              "6                  QUEDA DE PESSOA DE VEICULO\n",
              "7                 QUEDA DE VEICULO COM VITIMA\n",
              "8                           OUTROS COM VITIMA\n",
              "9          ATROPELAMENTO DE ANIMAL COM VITIMA\n",
              "Name: DESC_TIPO_ACIDENTE, dtype: object"
            ]
          },
          "metadata": {},
          "execution_count": 237
        }
      ]
    },
    {
      "cell_type": "code",
      "source": [
        "#Valos realizar uma consulta na BD com todos os dados de um tipo específico de\n",
        "#acidente.\n",
        "ac.loc[ac['DESC_TIPO_ACIDENTE']=='COLISAO DE VEICULOS COM VITIMA']"
      ],
      "metadata": {
        "id": "NVSQfHmoR6QM",
        "colab": {
          "base_uri": "https://localhost:8080/",
          "height": 0
        },
        "outputId": "39b0ea3c-d04b-4d86-d5ea-506cc8d127c5"
      },
      "execution_count": 238,
      "outputs": [
        {
          "output_type": "execute_result",
          "data": {
            "text/plain": [
              "Empty DataFrame\n",
              "Columns: [NUMERO_BOLETIM, DATA HORA_BOLETIM, DATA_INCLUSAO, TIPO_ACIDENTE, DESC_TIPO_ACIDENTE, COD_TEMPO, DESC_TEMPO, COD_PAVIMENTO, PAVIMENTO, COD_REGIONAL, DESC_REGIONAL, ORIGEM_BOLETIM, LOCAL_SINALIZADO, VELOCIDADE_PERMITIDA, COORDENADA_X, COORDENADA_Y, HORA_INFORMADA, INDICADOR_FATALIDADE, VALOR_UPS, DESCRIÇÃO_UPS, DATA_ALTERACAO_SMSA, VALOR_UPS_ANTIGA, DESCRIÇÃO_UPS_ANTIGA]\n",
              "Index: []\n",
              "\n",
              "[0 rows x 23 columns]"
            ],
            "text/html": [
              "\n",
              "  <div id=\"df-ccd0f868-0090-4c85-bd4f-baf0d5784f6e\">\n",
              "    <div class=\"colab-df-container\">\n",
              "      <div>\n",
              "<style scoped>\n",
              "    .dataframe tbody tr th:only-of-type {\n",
              "        vertical-align: middle;\n",
              "    }\n",
              "\n",
              "    .dataframe tbody tr th {\n",
              "        vertical-align: top;\n",
              "    }\n",
              "\n",
              "    .dataframe thead th {\n",
              "        text-align: right;\n",
              "    }\n",
              "</style>\n",
              "<table border=\"1\" class=\"dataframe\">\n",
              "  <thead>\n",
              "    <tr style=\"text-align: right;\">\n",
              "      <th></th>\n",
              "      <th>NUMERO_BOLETIM</th>\n",
              "      <th>DATA HORA_BOLETIM</th>\n",
              "      <th>DATA_INCLUSAO</th>\n",
              "      <th>TIPO_ACIDENTE</th>\n",
              "      <th>DESC_TIPO_ACIDENTE</th>\n",
              "      <th>COD_TEMPO</th>\n",
              "      <th>DESC_TEMPO</th>\n",
              "      <th>COD_PAVIMENTO</th>\n",
              "      <th>PAVIMENTO</th>\n",
              "      <th>COD_REGIONAL</th>\n",
              "      <th>...</th>\n",
              "      <th>VELOCIDADE_PERMITIDA</th>\n",
              "      <th>COORDENADA_X</th>\n",
              "      <th>COORDENADA_Y</th>\n",
              "      <th>HORA_INFORMADA</th>\n",
              "      <th>INDICADOR_FATALIDADE</th>\n",
              "      <th>VALOR_UPS</th>\n",
              "      <th>DESCRIÇÃO_UPS</th>\n",
              "      <th>DATA_ALTERACAO_SMSA</th>\n",
              "      <th>VALOR_UPS_ANTIGA</th>\n",
              "      <th>DESCRIÇÃO_UPS_ANTIGA</th>\n",
              "    </tr>\n",
              "  </thead>\n",
              "  <tbody>\n",
              "  </tbody>\n",
              "</table>\n",
              "<p>0 rows × 23 columns</p>\n",
              "</div>\n",
              "      <button class=\"colab-df-convert\" onclick=\"convertToInteractive('df-ccd0f868-0090-4c85-bd4f-baf0d5784f6e')\"\n",
              "              title=\"Convert this dataframe to an interactive table.\"\n",
              "              style=\"display:none;\">\n",
              "        \n",
              "  <svg xmlns=\"http://www.w3.org/2000/svg\" height=\"24px\"viewBox=\"0 0 24 24\"\n",
              "       width=\"24px\">\n",
              "    <path d=\"M0 0h24v24H0V0z\" fill=\"none\"/>\n",
              "    <path d=\"M18.56 5.44l.94 2.06.94-2.06 2.06-.94-2.06-.94-.94-2.06-.94 2.06-2.06.94zm-11 1L8.5 8.5l.94-2.06 2.06-.94-2.06-.94L8.5 2.5l-.94 2.06-2.06.94zm10 10l.94 2.06.94-2.06 2.06-.94-2.06-.94-.94-2.06-.94 2.06-2.06.94z\"/><path d=\"M17.41 7.96l-1.37-1.37c-.4-.4-.92-.59-1.43-.59-.52 0-1.04.2-1.43.59L10.3 9.45l-7.72 7.72c-.78.78-.78 2.05 0 2.83L4 21.41c.39.39.9.59 1.41.59.51 0 1.02-.2 1.41-.59l7.78-7.78 2.81-2.81c.8-.78.8-2.07 0-2.86zM5.41 20L4 18.59l7.72-7.72 1.47 1.35L5.41 20z\"/>\n",
              "  </svg>\n",
              "      </button>\n",
              "      \n",
              "  <style>\n",
              "    .colab-df-container {\n",
              "      display:flex;\n",
              "      flex-wrap:wrap;\n",
              "      gap: 12px;\n",
              "    }\n",
              "\n",
              "    .colab-df-convert {\n",
              "      background-color: #E8F0FE;\n",
              "      border: none;\n",
              "      border-radius: 50%;\n",
              "      cursor: pointer;\n",
              "      display: none;\n",
              "      fill: #1967D2;\n",
              "      height: 32px;\n",
              "      padding: 0 0 0 0;\n",
              "      width: 32px;\n",
              "    }\n",
              "\n",
              "    .colab-df-convert:hover {\n",
              "      background-color: #E2EBFA;\n",
              "      box-shadow: 0px 1px 2px rgba(60, 64, 67, 0.3), 0px 1px 3px 1px rgba(60, 64, 67, 0.15);\n",
              "      fill: #174EA6;\n",
              "    }\n",
              "\n",
              "    [theme=dark] .colab-df-convert {\n",
              "      background-color: #3B4455;\n",
              "      fill: #D2E3FC;\n",
              "    }\n",
              "\n",
              "    [theme=dark] .colab-df-convert:hover {\n",
              "      background-color: #434B5C;\n",
              "      box-shadow: 0px 1px 3px 1px rgba(0, 0, 0, 0.15);\n",
              "      filter: drop-shadow(0px 1px 2px rgba(0, 0, 0, 0.3));\n",
              "      fill: #FFFFFF;\n",
              "    }\n",
              "  </style>\n",
              "\n",
              "      <script>\n",
              "        const buttonEl =\n",
              "          document.querySelector('#df-ccd0f868-0090-4c85-bd4f-baf0d5784f6e button.colab-df-convert');\n",
              "        buttonEl.style.display =\n",
              "          google.colab.kernel.accessAllowed ? 'block' : 'none';\n",
              "\n",
              "        async function convertToInteractive(key) {\n",
              "          const element = document.querySelector('#df-ccd0f868-0090-4c85-bd4f-baf0d5784f6e');\n",
              "          const dataTable =\n",
              "            await google.colab.kernel.invokeFunction('convertToInteractive',\n",
              "                                                     [key], {});\n",
              "          if (!dataTable) return;\n",
              "\n",
              "          const docLinkHtml = 'Like what you see? Visit the ' +\n",
              "            '<a target=\"_blank\" href=https://colab.research.google.com/notebooks/data_table.ipynb>data table notebook</a>'\n",
              "            + ' to learn more about interactive tables.';\n",
              "          element.innerHTML = '';\n",
              "          dataTable['output_type'] = 'display_data';\n",
              "          await google.colab.output.renderOutput(dataTable, element);\n",
              "          const docLink = document.createElement('div');\n",
              "          docLink.innerHTML = docLinkHtml;\n",
              "          element.appendChild(docLink);\n",
              "        }\n",
              "      </script>\n",
              "    </div>\n",
              "  </div>\n",
              "  "
            ]
          },
          "metadata": {},
          "execution_count": 238
        }
      ]
    },
    {
      "cell_type": "code",
      "source": [
        "#Após o erro vamos verificar a BD\n",
        "print(ac)"
      ],
      "metadata": {
        "id": "U4untr9EYWzY",
        "colab": {
          "base_uri": "https://localhost:8080/"
        },
        "outputId": "08d220a2-1676-4909-e467-5ad23213ade2"
      },
      "execution_count": 239,
      "outputs": [
        {
          "output_type": "stream",
          "name": "stdout",
          "text": [
            "           NUMERO_BOLETIM DATA HORA_BOLETIM     DATA_INCLUSAO TIPO_ACIDENTE  \\\n",
            "0      2020-011831835-001  07/03/2020 06:00  07/03/2020 06:58        H09002   \n",
            "1      2020-011838326-001  07/03/2020 08:27  07/03/2020 08:34        H08002   \n",
            "2      2020-011841962-001  07/03/2020 06:53  07/03/2020 09:19        H08002   \n",
            "3      2020-011849103-001  07/03/2020 10:10  07/03/2020 10:40        H06002   \n",
            "4      2020-011854660-001  07/03/2020 10:48  07/03/2020 11:38        H01002   \n",
            "...                   ...               ...               ...           ...   \n",
            "10619  2020-042517640-001  02/09/2020 21:49  02/09/2020 21:55        H01002   \n",
            "10620  2020-042552651-001  03/09/2020 06:14  03/09/2020 06:52        H02002   \n",
            "10621  2020-042559653-001  03/09/2020 06:38  03/09/2020 08:13        H01002   \n",
            "10622  2020-042561806-001  03/09/2020 08:20  03/09/2020 08:30        H01002   \n",
            "10623  2020-042562698-001  03/09/2020 07:36  03/09/2020 08:36        H01002   \n",
            "\n",
            "                                      DESC_TIPO_ACIDENTE  COD_TEMPO  \\\n",
            "0      COLISAO DE VEICULOS COM VITIMA                ...          2   \n",
            "1      CHOQUE MECANICO COM VITIMA                    ...          2   \n",
            "2      CHOQUE MECANICO COM VITIMA                    ...          2   \n",
            "3      ATROPELAMENTO DE PESSOA SEM VITIMA FATAL      ...          0   \n",
            "4      ABALROAMENTO COM VITIMA                       ...          1   \n",
            "...                                                  ...        ...   \n",
            "10619  ABALROAMENTO COM VITIMA                       ...          0   \n",
            "10620  CAPOTAMENTO/TOMBAMENTO COM VITIMA             ...          1   \n",
            "10621  ABALROAMENTO COM VITIMA                       ...          1   \n",
            "10622  ABALROAMENTO COM VITIMA                       ...          1   \n",
            "10623  ABALROAMENTO COM VITIMA                       ...          0   \n",
            "\n",
            "            DESC_TEMPO  COD_PAVIMENTO        PAVIMENTO  COD_REGIONAL  ...  \\\n",
            "0      CHUVA                        1  ASFALTO                    25  ...   \n",
            "1      CHUVA                        1  ASFALTO                    23  ...   \n",
            "2      CHUVA                        1  ASFALTO                     0  ...   \n",
            "3      NAO INFORMADO                0  NAO INFORMADO              25  ...   \n",
            "4      BOM                          1  ASFALTO                    18  ...   \n",
            "...                ...            ...              ...           ...  ...   \n",
            "10619  NAO INFORMADO                0  NAO INFORMADO              23  ...   \n",
            "10620  BOM                          1  ASFALTO                    24  ...   \n",
            "10621  BOM                          1  ASFALTO                    26  ...   \n",
            "10622  BOM                          1  ASFALTO                    21  ...   \n",
            "10623  NAO INFORMADO                0  NAO INFORMADO              20  ...   \n",
            "\n",
            "      VELOCIDADE_PERMITIDA COORDENADA_X COORDENADA_Y  HORA_INFORMADA  \\\n",
            "0                        0    605836.61   7798624.66             SIM   \n",
            "1                       60    610478.49   7810433.11             SIM   \n",
            "2                        0    605990.46   7806661.44             SIM   \n",
            "3                        0         0.00         0.00             SIM   \n",
            "4                        0    600896.61   7789929.77             SIM   \n",
            "...                    ...          ...          ...             ...   \n",
            "10619                    0    611258.96   7805085.04             SIM   \n",
            "10620                    0    607215.08   7791414.14             SIM   \n",
            "10621                    0    604707.12   7808355.35             SIM   \n",
            "10622                    0    615119.76   7804832.47             SIM   \n",
            "10623                    0    613005.42   7796171.03             SIM   \n",
            "\n",
            "       INDICADOR_FATALIDADE  VALOR_UPS  DESCRIÇÃO_UPS DATA_ALTERACAO_SMSA  \\\n",
            "0                       NÃO          0  NÃO INFORMADO          00/00/0000   \n",
            "1                       NÃO          0  NÃO INFORMADO          00/00/0000   \n",
            "2                       NÃO          0  NÃO INFORMADO          00/00/0000   \n",
            "3                       NÃO          0  NÃO INFORMADO          00/00/0000   \n",
            "4                       NÃO          0  NÃO INFORMADO          00/00/0000   \n",
            "...                     ...        ...            ...                 ...   \n",
            "10619                   NÃO          0  NÃO INFORMADO          00/00/0000   \n",
            "10620                   NÃO          0  NÃO INFORMADO          00/00/0000   \n",
            "10621                   NÃO          0  NÃO INFORMADO          00/00/0000   \n",
            "10622                   NÃO          0  NÃO INFORMADO          00/00/0000   \n",
            "10623                   NÃO          0  NÃO INFORMADO          00/00/0000   \n",
            "\n",
            "       VALOR_UPS_ANTIGA DESCRIÇÃO_UPS_ANTIGA  \n",
            "0                     0        NÃO INFORMADO  \n",
            "1                     0        NÃO INFORMADO  \n",
            "2                     0        NÃO INFORMADO  \n",
            "3                     0        NÃO INFORMADO  \n",
            "4                     0        NÃO INFORMADO  \n",
            "...                 ...                  ...  \n",
            "10619                 0        NÃO INFORMADO  \n",
            "10620                 0        NÃO INFORMADO  \n",
            "10621                 0        NÃO INFORMADO  \n",
            "10622                 0        NÃO INFORMADO  \n",
            "10623                 0        NÃO INFORMADO  \n",
            "\n",
            "[10624 rows x 23 columns]\n"
          ]
        }
      ]
    },
    {
      "cell_type": "code",
      "source": [
        "#Para arrumar a base de dados, que tem espaços, podemos resolver dessa forma\n",
        "ac['DESC_TIPO_ACIDENTE'] = ac['DESC_TIPO_ACIDENTE'].str.strip()\n",
        "#ac['DESC_TIPO_ACIDENTE'] = ac['DESC_TIPO_ACIDENTE'].str.strip().str.replace('\\s*,\\s*', ',', regex=True) -- Não é necessário usar dessa forma\n",
        "print(ac['DESC_TIPO_ACIDENTE'])"
      ],
      "metadata": {
        "id": "Efj8osojXFMB",
        "colab": {
          "base_uri": "https://localhost:8080/"
        },
        "outputId": "3f65380e-6c42-434b-bdea-2e49616ee6ec"
      },
      "execution_count": 240,
      "outputs": [
        {
          "output_type": "stream",
          "name": "stdout",
          "text": [
            "0                  COLISAO DE VEICULOS COM VITIMA\n",
            "1                      CHOQUE MECANICO COM VITIMA\n",
            "2                      CHOQUE MECANICO COM VITIMA\n",
            "3        ATROPELAMENTO DE PESSOA SEM VITIMA FATAL\n",
            "4                         ABALROAMENTO COM VITIMA\n",
            "                           ...                   \n",
            "10619                     ABALROAMENTO COM VITIMA\n",
            "10620           CAPOTAMENTO/TOMBAMENTO COM VITIMA\n",
            "10621                     ABALROAMENTO COM VITIMA\n",
            "10622                     ABALROAMENTO COM VITIMA\n",
            "10623                     ABALROAMENTO COM VITIMA\n",
            "Name: DESC_TIPO_ACIDENTE, Length: 10624, dtype: object\n"
          ]
        }
      ]
    },
    {
      "cell_type": "code",
      "source": [
        "#Localizando dados com informaão específica\n",
        "ac.loc[ac['DESC_TIPO_ACIDENTE']=='COLISAO DE VEICULOS COM VITIMA']"
      ],
      "metadata": {
        "id": "6njN2XNHl_4S",
        "colab": {
          "base_uri": "https://localhost:8080/",
          "height": 0
        },
        "outputId": "7536d6f7-e945-4d1b-e2d4-6f7413be7562"
      },
      "execution_count": 241,
      "outputs": [
        {
          "output_type": "execute_result",
          "data": {
            "text/plain": [
              "           NUMERO_BOLETIM DATA HORA_BOLETIM     DATA_INCLUSAO TIPO_ACIDENTE  \\\n",
              "0      2020-011831835-001  07/03/2020 06:00  07/03/2020 06:58        H09002   \n",
              "11     2020-011871733-001  06/03/2020 19:00  07/03/2020 14:34        H09002   \n",
              "12     2020-011877048-001  07/03/2020 14:04  07/03/2020 15:09        H09002   \n",
              "15     2020-011884930-001  07/03/2020 14:52  07/03/2020 15:59        H09002   \n",
              "35     2020-011965221-001  08/03/2020 00:05  08/03/2020 01:43        H09002   \n",
              "...                   ...               ...               ...           ...   \n",
              "10551  2020-035903764-001  26/07/2020 18:53  26/07/2020 19:38        H09002   \n",
              "10553  2020-042103010-001  31/08/2020 15:58  31/08/2020 16:40        H09002   \n",
              "10555  2020-042107125-001  31/08/2020 16:22  31/08/2020 20:32        H09002   \n",
              "10604  2020-042444016-001  31/08/2020 09:00  02/09/2020 15:07        H09002   \n",
              "10616  2020-042495061-002  02/09/2020 18:58  02/09/2020 20:03        H09002   \n",
              "\n",
              "                   DESC_TIPO_ACIDENTE  COD_TEMPO       DESC_TEMPO  \\\n",
              "0      COLISAO DE VEICULOS COM VITIMA          2  CHUVA             \n",
              "11     COLISAO DE VEICULOS COM VITIMA          0  NAO INFORMADO     \n",
              "12     COLISAO DE VEICULOS COM VITIMA          4  NUBLADO           \n",
              "15     COLISAO DE VEICULOS COM VITIMA          0  NAO INFORMADO     \n",
              "35     COLISAO DE VEICULOS COM VITIMA          1  BOM               \n",
              "...                               ...        ...              ...   \n",
              "10551  COLISAO DE VEICULOS COM VITIMA          1  BOM               \n",
              "10553  COLISAO DE VEICULOS COM VITIMA          1  BOM               \n",
              "10555  COLISAO DE VEICULOS COM VITIMA          1  BOM               \n",
              "10604  COLISAO DE VEICULOS COM VITIMA          0  NAO INFORMADO     \n",
              "10616  COLISAO DE VEICULOS COM VITIMA          1  BOM               \n",
              "\n",
              "       COD_PAVIMENTO        PAVIMENTO  COD_REGIONAL  ... VELOCIDADE_PERMITIDA  \\\n",
              "0                  1  ASFALTO                    25  ...                    0   \n",
              "11                 0  NAO INFORMADO              24  ...                    0   \n",
              "12                 1  ASFALTO                    21  ...                    0   \n",
              "15                 0  NAO INFORMADO              18  ...                    0   \n",
              "35                 1  ASFALTO                    19  ...                    0   \n",
              "...              ...              ...           ...  ...                  ...   \n",
              "10551              1  ASFALTO                    21  ...                    0   \n",
              "10553              1  ASFALTO                    18  ...                    0   \n",
              "10555              1  ASFALTO                    24  ...                    0   \n",
              "10604              0  NAO INFORMADO              25  ...                    0   \n",
              "10616              1  ASFALTO                    22  ...                    0   \n",
              "\n",
              "      COORDENADA_X COORDENADA_Y  HORA_INFORMADA  INDICADOR_FATALIDADE  \\\n",
              "0        605836.61   7798624.66             SIM                   NÃO   \n",
              "11            0.00         0.00             SIM                   NÃO   \n",
              "12       612212.06   7802031.84             SIM                   NÃO   \n",
              "15       600064.25   7787743.42             SIM                   NÃO   \n",
              "35       612017.10   7794855.76             SIM                   NÃO   \n",
              "...            ...          ...             ...                   ...   \n",
              "10551    605027.20   7797323.03             SIM                   NÃO   \n",
              "10553    605000.82   7789410.06             SIM                   NÃO   \n",
              "10555    606377.03   7793512.09             SIM                   NÃO   \n",
              "10604    608945.94   7803758.79             SIM                   NÃO   \n",
              "10616    605836.61   7798624.66             SIM                   NÃO   \n",
              "\n",
              "       VALOR_UPS  DESCRIÇÃO_UPS DATA_ALTERACAO_SMSA  VALOR_UPS_ANTIGA  \\\n",
              "0              0  NÃO INFORMADO          00/00/0000                 0   \n",
              "11             0  NÃO INFORMADO          00/00/0000                 0   \n",
              "12             0  NÃO INFORMADO          00/00/0000                 0   \n",
              "15             0  NÃO INFORMADO          00/00/0000                 0   \n",
              "35             0  NÃO INFORMADO          00/00/0000                 0   \n",
              "...          ...            ...                 ...               ...   \n",
              "10551          0  NÃO INFORMADO          00/00/0000                 0   \n",
              "10553          0  NÃO INFORMADO          00/00/0000                 0   \n",
              "10555          0  NÃO INFORMADO          00/00/0000                 0   \n",
              "10604          0  NÃO INFORMADO          00/00/0000                 0   \n",
              "10616          0  NÃO INFORMADO          00/00/0000                 0   \n",
              "\n",
              "      DESCRIÇÃO_UPS_ANTIGA  \n",
              "0            NÃO INFORMADO  \n",
              "11           NÃO INFORMADO  \n",
              "12           NÃO INFORMADO  \n",
              "15           NÃO INFORMADO  \n",
              "35           NÃO INFORMADO  \n",
              "...                    ...  \n",
              "10551        NÃO INFORMADO  \n",
              "10553        NÃO INFORMADO  \n",
              "10555        NÃO INFORMADO  \n",
              "10604        NÃO INFORMADO  \n",
              "10616        NÃO INFORMADO  \n",
              "\n",
              "[1522 rows x 23 columns]"
            ],
            "text/html": [
              "\n",
              "  <div id=\"df-dfcc624d-0ffa-44e1-b6bc-2c4de046c98c\">\n",
              "    <div class=\"colab-df-container\">\n",
              "      <div>\n",
              "<style scoped>\n",
              "    .dataframe tbody tr th:only-of-type {\n",
              "        vertical-align: middle;\n",
              "    }\n",
              "\n",
              "    .dataframe tbody tr th {\n",
              "        vertical-align: top;\n",
              "    }\n",
              "\n",
              "    .dataframe thead th {\n",
              "        text-align: right;\n",
              "    }\n",
              "</style>\n",
              "<table border=\"1\" class=\"dataframe\">\n",
              "  <thead>\n",
              "    <tr style=\"text-align: right;\">\n",
              "      <th></th>\n",
              "      <th>NUMERO_BOLETIM</th>\n",
              "      <th>DATA HORA_BOLETIM</th>\n",
              "      <th>DATA_INCLUSAO</th>\n",
              "      <th>TIPO_ACIDENTE</th>\n",
              "      <th>DESC_TIPO_ACIDENTE</th>\n",
              "      <th>COD_TEMPO</th>\n",
              "      <th>DESC_TEMPO</th>\n",
              "      <th>COD_PAVIMENTO</th>\n",
              "      <th>PAVIMENTO</th>\n",
              "      <th>COD_REGIONAL</th>\n",
              "      <th>...</th>\n",
              "      <th>VELOCIDADE_PERMITIDA</th>\n",
              "      <th>COORDENADA_X</th>\n",
              "      <th>COORDENADA_Y</th>\n",
              "      <th>HORA_INFORMADA</th>\n",
              "      <th>INDICADOR_FATALIDADE</th>\n",
              "      <th>VALOR_UPS</th>\n",
              "      <th>DESCRIÇÃO_UPS</th>\n",
              "      <th>DATA_ALTERACAO_SMSA</th>\n",
              "      <th>VALOR_UPS_ANTIGA</th>\n",
              "      <th>DESCRIÇÃO_UPS_ANTIGA</th>\n",
              "    </tr>\n",
              "  </thead>\n",
              "  <tbody>\n",
              "    <tr>\n",
              "      <th>0</th>\n",
              "      <td>2020-011831835-001</td>\n",
              "      <td>07/03/2020 06:00</td>\n",
              "      <td>07/03/2020 06:58</td>\n",
              "      <td>H09002</td>\n",
              "      <td>COLISAO DE VEICULOS COM VITIMA</td>\n",
              "      <td>2</td>\n",
              "      <td>CHUVA</td>\n",
              "      <td>1</td>\n",
              "      <td>ASFALTO</td>\n",
              "      <td>25</td>\n",
              "      <td>...</td>\n",
              "      <td>0</td>\n",
              "      <td>605836.61</td>\n",
              "      <td>7798624.66</td>\n",
              "      <td>SIM</td>\n",
              "      <td>NÃO</td>\n",
              "      <td>0</td>\n",
              "      <td>NÃO INFORMADO</td>\n",
              "      <td>00/00/0000</td>\n",
              "      <td>0</td>\n",
              "      <td>NÃO INFORMADO</td>\n",
              "    </tr>\n",
              "    <tr>\n",
              "      <th>11</th>\n",
              "      <td>2020-011871733-001</td>\n",
              "      <td>06/03/2020 19:00</td>\n",
              "      <td>07/03/2020 14:34</td>\n",
              "      <td>H09002</td>\n",
              "      <td>COLISAO DE VEICULOS COM VITIMA</td>\n",
              "      <td>0</td>\n",
              "      <td>NAO INFORMADO</td>\n",
              "      <td>0</td>\n",
              "      <td>NAO INFORMADO</td>\n",
              "      <td>24</td>\n",
              "      <td>...</td>\n",
              "      <td>0</td>\n",
              "      <td>0.00</td>\n",
              "      <td>0.00</td>\n",
              "      <td>SIM</td>\n",
              "      <td>NÃO</td>\n",
              "      <td>0</td>\n",
              "      <td>NÃO INFORMADO</td>\n",
              "      <td>00/00/0000</td>\n",
              "      <td>0</td>\n",
              "      <td>NÃO INFORMADO</td>\n",
              "    </tr>\n",
              "    <tr>\n",
              "      <th>12</th>\n",
              "      <td>2020-011877048-001</td>\n",
              "      <td>07/03/2020 14:04</td>\n",
              "      <td>07/03/2020 15:09</td>\n",
              "      <td>H09002</td>\n",
              "      <td>COLISAO DE VEICULOS COM VITIMA</td>\n",
              "      <td>4</td>\n",
              "      <td>NUBLADO</td>\n",
              "      <td>1</td>\n",
              "      <td>ASFALTO</td>\n",
              "      <td>21</td>\n",
              "      <td>...</td>\n",
              "      <td>0</td>\n",
              "      <td>612212.06</td>\n",
              "      <td>7802031.84</td>\n",
              "      <td>SIM</td>\n",
              "      <td>NÃO</td>\n",
              "      <td>0</td>\n",
              "      <td>NÃO INFORMADO</td>\n",
              "      <td>00/00/0000</td>\n",
              "      <td>0</td>\n",
              "      <td>NÃO INFORMADO</td>\n",
              "    </tr>\n",
              "    <tr>\n",
              "      <th>15</th>\n",
              "      <td>2020-011884930-001</td>\n",
              "      <td>07/03/2020 14:52</td>\n",
              "      <td>07/03/2020 15:59</td>\n",
              "      <td>H09002</td>\n",
              "      <td>COLISAO DE VEICULOS COM VITIMA</td>\n",
              "      <td>0</td>\n",
              "      <td>NAO INFORMADO</td>\n",
              "      <td>0</td>\n",
              "      <td>NAO INFORMADO</td>\n",
              "      <td>18</td>\n",
              "      <td>...</td>\n",
              "      <td>0</td>\n",
              "      <td>600064.25</td>\n",
              "      <td>7787743.42</td>\n",
              "      <td>SIM</td>\n",
              "      <td>NÃO</td>\n",
              "      <td>0</td>\n",
              "      <td>NÃO INFORMADO</td>\n",
              "      <td>00/00/0000</td>\n",
              "      <td>0</td>\n",
              "      <td>NÃO INFORMADO</td>\n",
              "    </tr>\n",
              "    <tr>\n",
              "      <th>35</th>\n",
              "      <td>2020-011965221-001</td>\n",
              "      <td>08/03/2020 00:05</td>\n",
              "      <td>08/03/2020 01:43</td>\n",
              "      <td>H09002</td>\n",
              "      <td>COLISAO DE VEICULOS COM VITIMA</td>\n",
              "      <td>1</td>\n",
              "      <td>BOM</td>\n",
              "      <td>1</td>\n",
              "      <td>ASFALTO</td>\n",
              "      <td>19</td>\n",
              "      <td>...</td>\n",
              "      <td>0</td>\n",
              "      <td>612017.10</td>\n",
              "      <td>7794855.76</td>\n",
              "      <td>SIM</td>\n",
              "      <td>NÃO</td>\n",
              "      <td>0</td>\n",
              "      <td>NÃO INFORMADO</td>\n",
              "      <td>00/00/0000</td>\n",
              "      <td>0</td>\n",
              "      <td>NÃO INFORMADO</td>\n",
              "    </tr>\n",
              "    <tr>\n",
              "      <th>...</th>\n",
              "      <td>...</td>\n",
              "      <td>...</td>\n",
              "      <td>...</td>\n",
              "      <td>...</td>\n",
              "      <td>...</td>\n",
              "      <td>...</td>\n",
              "      <td>...</td>\n",
              "      <td>...</td>\n",
              "      <td>...</td>\n",
              "      <td>...</td>\n",
              "      <td>...</td>\n",
              "      <td>...</td>\n",
              "      <td>...</td>\n",
              "      <td>...</td>\n",
              "      <td>...</td>\n",
              "      <td>...</td>\n",
              "      <td>...</td>\n",
              "      <td>...</td>\n",
              "      <td>...</td>\n",
              "      <td>...</td>\n",
              "      <td>...</td>\n",
              "    </tr>\n",
              "    <tr>\n",
              "      <th>10551</th>\n",
              "      <td>2020-035903764-001</td>\n",
              "      <td>26/07/2020 18:53</td>\n",
              "      <td>26/07/2020 19:38</td>\n",
              "      <td>H09002</td>\n",
              "      <td>COLISAO DE VEICULOS COM VITIMA</td>\n",
              "      <td>1</td>\n",
              "      <td>BOM</td>\n",
              "      <td>1</td>\n",
              "      <td>ASFALTO</td>\n",
              "      <td>21</td>\n",
              "      <td>...</td>\n",
              "      <td>0</td>\n",
              "      <td>605027.20</td>\n",
              "      <td>7797323.03</td>\n",
              "      <td>SIM</td>\n",
              "      <td>NÃO</td>\n",
              "      <td>0</td>\n",
              "      <td>NÃO INFORMADO</td>\n",
              "      <td>00/00/0000</td>\n",
              "      <td>0</td>\n",
              "      <td>NÃO INFORMADO</td>\n",
              "    </tr>\n",
              "    <tr>\n",
              "      <th>10553</th>\n",
              "      <td>2020-042103010-001</td>\n",
              "      <td>31/08/2020 15:58</td>\n",
              "      <td>31/08/2020 16:40</td>\n",
              "      <td>H09002</td>\n",
              "      <td>COLISAO DE VEICULOS COM VITIMA</td>\n",
              "      <td>1</td>\n",
              "      <td>BOM</td>\n",
              "      <td>1</td>\n",
              "      <td>ASFALTO</td>\n",
              "      <td>18</td>\n",
              "      <td>...</td>\n",
              "      <td>0</td>\n",
              "      <td>605000.82</td>\n",
              "      <td>7789410.06</td>\n",
              "      <td>SIM</td>\n",
              "      <td>NÃO</td>\n",
              "      <td>0</td>\n",
              "      <td>NÃO INFORMADO</td>\n",
              "      <td>00/00/0000</td>\n",
              "      <td>0</td>\n",
              "      <td>NÃO INFORMADO</td>\n",
              "    </tr>\n",
              "    <tr>\n",
              "      <th>10555</th>\n",
              "      <td>2020-042107125-001</td>\n",
              "      <td>31/08/2020 16:22</td>\n",
              "      <td>31/08/2020 20:32</td>\n",
              "      <td>H09002</td>\n",
              "      <td>COLISAO DE VEICULOS COM VITIMA</td>\n",
              "      <td>1</td>\n",
              "      <td>BOM</td>\n",
              "      <td>1</td>\n",
              "      <td>ASFALTO</td>\n",
              "      <td>24</td>\n",
              "      <td>...</td>\n",
              "      <td>0</td>\n",
              "      <td>606377.03</td>\n",
              "      <td>7793512.09</td>\n",
              "      <td>SIM</td>\n",
              "      <td>NÃO</td>\n",
              "      <td>0</td>\n",
              "      <td>NÃO INFORMADO</td>\n",
              "      <td>00/00/0000</td>\n",
              "      <td>0</td>\n",
              "      <td>NÃO INFORMADO</td>\n",
              "    </tr>\n",
              "    <tr>\n",
              "      <th>10604</th>\n",
              "      <td>2020-042444016-001</td>\n",
              "      <td>31/08/2020 09:00</td>\n",
              "      <td>02/09/2020 15:07</td>\n",
              "      <td>H09002</td>\n",
              "      <td>COLISAO DE VEICULOS COM VITIMA</td>\n",
              "      <td>0</td>\n",
              "      <td>NAO INFORMADO</td>\n",
              "      <td>0</td>\n",
              "      <td>NAO INFORMADO</td>\n",
              "      <td>25</td>\n",
              "      <td>...</td>\n",
              "      <td>0</td>\n",
              "      <td>608945.94</td>\n",
              "      <td>7803758.79</td>\n",
              "      <td>SIM</td>\n",
              "      <td>NÃO</td>\n",
              "      <td>0</td>\n",
              "      <td>NÃO INFORMADO</td>\n",
              "      <td>00/00/0000</td>\n",
              "      <td>0</td>\n",
              "      <td>NÃO INFORMADO</td>\n",
              "    </tr>\n",
              "    <tr>\n",
              "      <th>10616</th>\n",
              "      <td>2020-042495061-002</td>\n",
              "      <td>02/09/2020 18:58</td>\n",
              "      <td>02/09/2020 20:03</td>\n",
              "      <td>H09002</td>\n",
              "      <td>COLISAO DE VEICULOS COM VITIMA</td>\n",
              "      <td>1</td>\n",
              "      <td>BOM</td>\n",
              "      <td>1</td>\n",
              "      <td>ASFALTO</td>\n",
              "      <td>22</td>\n",
              "      <td>...</td>\n",
              "      <td>0</td>\n",
              "      <td>605836.61</td>\n",
              "      <td>7798624.66</td>\n",
              "      <td>SIM</td>\n",
              "      <td>NÃO</td>\n",
              "      <td>0</td>\n",
              "      <td>NÃO INFORMADO</td>\n",
              "      <td>00/00/0000</td>\n",
              "      <td>0</td>\n",
              "      <td>NÃO INFORMADO</td>\n",
              "    </tr>\n",
              "  </tbody>\n",
              "</table>\n",
              "<p>1522 rows × 23 columns</p>\n",
              "</div>\n",
              "      <button class=\"colab-df-convert\" onclick=\"convertToInteractive('df-dfcc624d-0ffa-44e1-b6bc-2c4de046c98c')\"\n",
              "              title=\"Convert this dataframe to an interactive table.\"\n",
              "              style=\"display:none;\">\n",
              "        \n",
              "  <svg xmlns=\"http://www.w3.org/2000/svg\" height=\"24px\"viewBox=\"0 0 24 24\"\n",
              "       width=\"24px\">\n",
              "    <path d=\"M0 0h24v24H0V0z\" fill=\"none\"/>\n",
              "    <path d=\"M18.56 5.44l.94 2.06.94-2.06 2.06-.94-2.06-.94-.94-2.06-.94 2.06-2.06.94zm-11 1L8.5 8.5l.94-2.06 2.06-.94-2.06-.94L8.5 2.5l-.94 2.06-2.06.94zm10 10l.94 2.06.94-2.06 2.06-.94-2.06-.94-.94-2.06-.94 2.06-2.06.94z\"/><path d=\"M17.41 7.96l-1.37-1.37c-.4-.4-.92-.59-1.43-.59-.52 0-1.04.2-1.43.59L10.3 9.45l-7.72 7.72c-.78.78-.78 2.05 0 2.83L4 21.41c.39.39.9.59 1.41.59.51 0 1.02-.2 1.41-.59l7.78-7.78 2.81-2.81c.8-.78.8-2.07 0-2.86zM5.41 20L4 18.59l7.72-7.72 1.47 1.35L5.41 20z\"/>\n",
              "  </svg>\n",
              "      </button>\n",
              "      \n",
              "  <style>\n",
              "    .colab-df-container {\n",
              "      display:flex;\n",
              "      flex-wrap:wrap;\n",
              "      gap: 12px;\n",
              "    }\n",
              "\n",
              "    .colab-df-convert {\n",
              "      background-color: #E8F0FE;\n",
              "      border: none;\n",
              "      border-radius: 50%;\n",
              "      cursor: pointer;\n",
              "      display: none;\n",
              "      fill: #1967D2;\n",
              "      height: 32px;\n",
              "      padding: 0 0 0 0;\n",
              "      width: 32px;\n",
              "    }\n",
              "\n",
              "    .colab-df-convert:hover {\n",
              "      background-color: #E2EBFA;\n",
              "      box-shadow: 0px 1px 2px rgba(60, 64, 67, 0.3), 0px 1px 3px 1px rgba(60, 64, 67, 0.15);\n",
              "      fill: #174EA6;\n",
              "    }\n",
              "\n",
              "    [theme=dark] .colab-df-convert {\n",
              "      background-color: #3B4455;\n",
              "      fill: #D2E3FC;\n",
              "    }\n",
              "\n",
              "    [theme=dark] .colab-df-convert:hover {\n",
              "      background-color: #434B5C;\n",
              "      box-shadow: 0px 1px 3px 1px rgba(0, 0, 0, 0.15);\n",
              "      filter: drop-shadow(0px 1px 2px rgba(0, 0, 0, 0.3));\n",
              "      fill: #FFFFFF;\n",
              "    }\n",
              "  </style>\n",
              "\n",
              "      <script>\n",
              "        const buttonEl =\n",
              "          document.querySelector('#df-dfcc624d-0ffa-44e1-b6bc-2c4de046c98c button.colab-df-convert');\n",
              "        buttonEl.style.display =\n",
              "          google.colab.kernel.accessAllowed ? 'block' : 'none';\n",
              "\n",
              "        async function convertToInteractive(key) {\n",
              "          const element = document.querySelector('#df-dfcc624d-0ffa-44e1-b6bc-2c4de046c98c');\n",
              "          const dataTable =\n",
              "            await google.colab.kernel.invokeFunction('convertToInteractive',\n",
              "                                                     [key], {});\n",
              "          if (!dataTable) return;\n",
              "\n",
              "          const docLinkHtml = 'Like what you see? Visit the ' +\n",
              "            '<a target=\"_blank\" href=https://colab.research.google.com/notebooks/data_table.ipynb>data table notebook</a>'\n",
              "            + ' to learn more about interactive tables.';\n",
              "          element.innerHTML = '';\n",
              "          dataTable['output_type'] = 'display_data';\n",
              "          await google.colab.output.renderOutput(dataTable, element);\n",
              "          const docLink = document.createElement('div');\n",
              "          docLink.innerHTML = docLinkHtml;\n",
              "          element.appendChild(docLink);\n",
              "        }\n",
              "      </script>\n",
              "    </div>\n",
              "  </div>\n",
              "  "
            ]
          },
          "metadata": {},
          "execution_count": 241
        }
      ]
    },
    {
      "cell_type": "markdown",
      "source": [
        "##Trabalhando com datas no pandas\n",
        "Inicialmente devemos transformar a string armazenada no campo 'HORA DATA_BOLETIM' em um datetime (variável de data e horário).\n",
        "O código abaixo cria uma nova coluna, baseado no 'HORA DATA_BOLETIM'.\n",
        "A documentação oficial no site do [Pandas](https://pandas.pydata.org/docs/reference/api/pandas.Series.dt.weekday.html)"
      ],
      "metadata": {
        "id": "OwZMGi-Q_7Tl"
      }
    },
    {
      "cell_type": "code",
      "source": [
        "ac['DATA_BO'] = pd.to_datetime(ac[\"DATA HORA_BOLETIM\"])"
      ],
      "metadata": {
        "id": "9FFNdwWbAqtr"
      },
      "execution_count": 242,
      "outputs": []
    },
    {
      "cell_type": "markdown",
      "source": [
        "#Quais dias da semana tem mais e menos acidentes?\n",
        "Vamos utilizar a função [groupby](https://pandas.pydata.org/docs/reference/api/pandas.DataFrame.groupby.html).\n",
        "A função groupby realizará o agrupamento dos dados baseado em algum campo. Geralmente a função é precedido de outra função como: mean(), count(), sum(), max(), min(), etc."
      ],
      "metadata": {
        "id": "_HOoa2rrdMDg"
      }
    },
    {
      "cell_type": "code",
      "source": [
        "#A semana inicia na Segunda=0, Domingo=6.\n",
        "count = ac.groupby(ac['DATA_BO'].dt.weekday).NUMERO_BOLETIM.count()\n",
        "count.name = 'Contagem'\n",
        "count = pd.DataFrame(count)\n",
        "count['Dia_semana'] = ['Segunda','Terça','Quarta','Quinta','Sexta','Sábado','Domingo']\n",
        "count.index.name = None\n",
        "count"
      ],
      "metadata": {
        "id": "xWVSYRJp7TzR",
        "colab": {
          "base_uri": "https://localhost:8080/",
          "height": 0
        },
        "outputId": "f992e371-ebd5-4e15-e5b4-39d14a9293e2"
      },
      "execution_count": 243,
      "outputs": [
        {
          "output_type": "execute_result",
          "data": {
            "text/plain": [
              "   Contagem Dia_semana\n",
              "0      1488    Segunda\n",
              "1      1491      Terça\n",
              "2      1618     Quarta\n",
              "3      1640     Quinta\n",
              "4      1610      Sexta\n",
              "5      1456     Sábado\n",
              "6      1321    Domingo"
            ],
            "text/html": [
              "\n",
              "  <div id=\"df-36c3262c-792f-43f3-be74-9618f6d0fc6b\">\n",
              "    <div class=\"colab-df-container\">\n",
              "      <div>\n",
              "<style scoped>\n",
              "    .dataframe tbody tr th:only-of-type {\n",
              "        vertical-align: middle;\n",
              "    }\n",
              "\n",
              "    .dataframe tbody tr th {\n",
              "        vertical-align: top;\n",
              "    }\n",
              "\n",
              "    .dataframe thead th {\n",
              "        text-align: right;\n",
              "    }\n",
              "</style>\n",
              "<table border=\"1\" class=\"dataframe\">\n",
              "  <thead>\n",
              "    <tr style=\"text-align: right;\">\n",
              "      <th></th>\n",
              "      <th>Contagem</th>\n",
              "      <th>Dia_semana</th>\n",
              "    </tr>\n",
              "  </thead>\n",
              "  <tbody>\n",
              "    <tr>\n",
              "      <th>0</th>\n",
              "      <td>1488</td>\n",
              "      <td>Segunda</td>\n",
              "    </tr>\n",
              "    <tr>\n",
              "      <th>1</th>\n",
              "      <td>1491</td>\n",
              "      <td>Terça</td>\n",
              "    </tr>\n",
              "    <tr>\n",
              "      <th>2</th>\n",
              "      <td>1618</td>\n",
              "      <td>Quarta</td>\n",
              "    </tr>\n",
              "    <tr>\n",
              "      <th>3</th>\n",
              "      <td>1640</td>\n",
              "      <td>Quinta</td>\n",
              "    </tr>\n",
              "    <tr>\n",
              "      <th>4</th>\n",
              "      <td>1610</td>\n",
              "      <td>Sexta</td>\n",
              "    </tr>\n",
              "    <tr>\n",
              "      <th>5</th>\n",
              "      <td>1456</td>\n",
              "      <td>Sábado</td>\n",
              "    </tr>\n",
              "    <tr>\n",
              "      <th>6</th>\n",
              "      <td>1321</td>\n",
              "      <td>Domingo</td>\n",
              "    </tr>\n",
              "  </tbody>\n",
              "</table>\n",
              "</div>\n",
              "      <button class=\"colab-df-convert\" onclick=\"convertToInteractive('df-36c3262c-792f-43f3-be74-9618f6d0fc6b')\"\n",
              "              title=\"Convert this dataframe to an interactive table.\"\n",
              "              style=\"display:none;\">\n",
              "        \n",
              "  <svg xmlns=\"http://www.w3.org/2000/svg\" height=\"24px\"viewBox=\"0 0 24 24\"\n",
              "       width=\"24px\">\n",
              "    <path d=\"M0 0h24v24H0V0z\" fill=\"none\"/>\n",
              "    <path d=\"M18.56 5.44l.94 2.06.94-2.06 2.06-.94-2.06-.94-.94-2.06-.94 2.06-2.06.94zm-11 1L8.5 8.5l.94-2.06 2.06-.94-2.06-.94L8.5 2.5l-.94 2.06-2.06.94zm10 10l.94 2.06.94-2.06 2.06-.94-2.06-.94-.94-2.06-.94 2.06-2.06.94z\"/><path d=\"M17.41 7.96l-1.37-1.37c-.4-.4-.92-.59-1.43-.59-.52 0-1.04.2-1.43.59L10.3 9.45l-7.72 7.72c-.78.78-.78 2.05 0 2.83L4 21.41c.39.39.9.59 1.41.59.51 0 1.02-.2 1.41-.59l7.78-7.78 2.81-2.81c.8-.78.8-2.07 0-2.86zM5.41 20L4 18.59l7.72-7.72 1.47 1.35L5.41 20z\"/>\n",
              "  </svg>\n",
              "      </button>\n",
              "      \n",
              "  <style>\n",
              "    .colab-df-container {\n",
              "      display:flex;\n",
              "      flex-wrap:wrap;\n",
              "      gap: 12px;\n",
              "    }\n",
              "\n",
              "    .colab-df-convert {\n",
              "      background-color: #E8F0FE;\n",
              "      border: none;\n",
              "      border-radius: 50%;\n",
              "      cursor: pointer;\n",
              "      display: none;\n",
              "      fill: #1967D2;\n",
              "      height: 32px;\n",
              "      padding: 0 0 0 0;\n",
              "      width: 32px;\n",
              "    }\n",
              "\n",
              "    .colab-df-convert:hover {\n",
              "      background-color: #E2EBFA;\n",
              "      box-shadow: 0px 1px 2px rgba(60, 64, 67, 0.3), 0px 1px 3px 1px rgba(60, 64, 67, 0.15);\n",
              "      fill: #174EA6;\n",
              "    }\n",
              "\n",
              "    [theme=dark] .colab-df-convert {\n",
              "      background-color: #3B4455;\n",
              "      fill: #D2E3FC;\n",
              "    }\n",
              "\n",
              "    [theme=dark] .colab-df-convert:hover {\n",
              "      background-color: #434B5C;\n",
              "      box-shadow: 0px 1px 3px 1px rgba(0, 0, 0, 0.15);\n",
              "      filter: drop-shadow(0px 1px 2px rgba(0, 0, 0, 0.3));\n",
              "      fill: #FFFFFF;\n",
              "    }\n",
              "  </style>\n",
              "\n",
              "      <script>\n",
              "        const buttonEl =\n",
              "          document.querySelector('#df-36c3262c-792f-43f3-be74-9618f6d0fc6b button.colab-df-convert');\n",
              "        buttonEl.style.display =\n",
              "          google.colab.kernel.accessAllowed ? 'block' : 'none';\n",
              "\n",
              "        async function convertToInteractive(key) {\n",
              "          const element = document.querySelector('#df-36c3262c-792f-43f3-be74-9618f6d0fc6b');\n",
              "          const dataTable =\n",
              "            await google.colab.kernel.invokeFunction('convertToInteractive',\n",
              "                                                     [key], {});\n",
              "          if (!dataTable) return;\n",
              "\n",
              "          const docLinkHtml = 'Like what you see? Visit the ' +\n",
              "            '<a target=\"_blank\" href=https://colab.research.google.com/notebooks/data_table.ipynb>data table notebook</a>'\n",
              "            + ' to learn more about interactive tables.';\n",
              "          element.innerHTML = '';\n",
              "          dataTable['output_type'] = 'display_data';\n",
              "          await google.colab.output.renderOutput(dataTable, element);\n",
              "          const docLink = document.createElement('div');\n",
              "          docLink.innerHTML = docLinkHtml;\n",
              "          element.appendChild(docLink);\n",
              "        }\n",
              "      </script>\n",
              "    </div>\n",
              "  </div>\n",
              "  "
            ]
          },
          "metadata": {},
          "execution_count": 243
        }
      ]
    },
    {
      "cell_type": "code",
      "source": [
        "#Encontrando o dia com maior número de acidentes na semana\n",
        "max = count['Contagem'].max()\n",
        "dia_max = count.loc[count['Contagem']==max]\n",
        "max = dia_max.iloc[0]['Contagem']\n",
        "dia = dia_max.iloc[0]['Dia_semana']\n",
        "min = count['Contagem'].min()\n",
        "dia_min = count.loc[count['Contagem']==min]\n",
        "min = dia_min.iloc[0]['Contagem']\n",
        "dia1 = dia_min.iloc[0]['Dia_semana']\n",
        "\n",
        "print('O dia com maior número de acidentes é',dia,'e o número de acidentes é igual a',max)\n",
        "print('O dia com menor número de acidentes é',dia1,'e o número de acidentes é igual a',min)"
      ],
      "metadata": {
        "colab": {
          "base_uri": "https://localhost:8080/"
        },
        "id": "FbTTIc-Chh2r",
        "outputId": "2e0dbf11-019a-4fe7-ad2b-3c7c72c9261a"
      },
      "execution_count": 244,
      "outputs": [
        {
          "output_type": "stream",
          "name": "stdout",
          "text": [
            "O dia com maior número de acidentes é Quinta e o número de acidentes é igual a 1640\n",
            "O dia com menor número de acidentes é Domingo e o número de acidentes é igual a 1321\n"
          ]
        }
      ]
    },
    {
      "cell_type": "markdown",
      "source": [
        "#Qual a média de acidentes no período dos dados?"
      ],
      "metadata": {
        "id": "zYXH9vFIudhs"
      }
    },
    {
      "cell_type": "code",
      "source": [
        "media = ac.index.max()/365\n",
        "df = ac.groupby(ac['DESC_TIPO_ACIDENTE']).NUMERO_BOLETIM.count()\n",
        "print('A média de acidentes por dia é de', round(media,2),'e a média por tipo de acidente está apresentada a seguir:\\n\\n',round(df/365,2))"
      ],
      "metadata": {
        "id": "CROhNUvYCDjf",
        "colab": {
          "base_uri": "https://localhost:8080/"
        },
        "outputId": "421397ac-1a17-4713-bcd7-0da879223d21"
      },
      "execution_count": 245,
      "outputs": [
        {
          "output_type": "stream",
          "name": "stdout",
          "text": [
            "A média de acidentes por dia é de 29.1 e a média por tipo de acidente está apresentada a seguir:\n",
            "\n",
            " DESC_TIPO_ACIDENTE\n",
            "ABALROAMENTO COM VITIMA                     13.36\n",
            "ATROPELAMENTO DE ANIMAL COM VITIMA           0.10\n",
            "ATROPELAMENTO DE PESSOA COM VITIMA FATAL     0.11\n",
            "ATROPELAMENTO DE PESSOA SEM VITIMA FATAL     2.86\n",
            "CAPOTAMENTO/TOMBAMENTO COM VITIMA            2.07\n",
            "CHOQUE MECANICO COM VITIMA                   5.22\n",
            "COLISAO DE VEICULOS COM VITIMA               4.17\n",
            "OUTROS COM VITIMA                            0.25\n",
            "QUEDA DE PESSOA DE VEICULO                   0.95\n",
            "QUEDA DE VEICULO COM VITIMA                  0.02\n",
            "Name: NUMERO_BOLETIM, dtype: float64\n"
          ]
        }
      ]
    },
    {
      "cell_type": "markdown",
      "source": [
        "#Qual o tipo de acidente que é mais frequênte?"
      ],
      "metadata": {
        "id": "JVwt8ittupb1"
      }
    },
    {
      "cell_type": "code",
      "source": [
        "tipo_ac = ac.groupby(ac['DESC_TIPO_ACIDENTE']).NUMERO_BOLETIM.count()\n",
        "tipo_ac = pd.DataFrame(tipo_ac)\n",
        "tipo_ac.columns = ['Contagem']\n",
        "tipo_ac.index.name = None\n",
        "max = tipo_ac['Contagem'].max()\n",
        "dia_max = tipo_ac.loc[tipo_ac['Contagem']==max]\n",
        "max = dia_max.iloc[0]['Contagem']\n",
        "tipo = dia_max.iloc[0].name\n",
        "print('O tipo de acidente com maior ocorrência no banco de dados é o', tipo,'com',max,'acidentes')"
      ],
      "metadata": {
        "colab": {
          "base_uri": "https://localhost:8080/"
        },
        "id": "9n8y8FL7uuBD",
        "outputId": "af8a7135-fd97-43fb-e9ce-5d634a5b1fc7"
      },
      "execution_count": 246,
      "outputs": [
        {
          "output_type": "stream",
          "name": "stdout",
          "text": [
            "O tipo de acidente com maior ocorrência no banco de dados é o ABALROAMENTO COM VITIMA com 4875 acidentes\n"
          ]
        }
      ]
    }
  ]
}