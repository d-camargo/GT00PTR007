{
  "nbformat": 4,
  "nbformat_minor": 0,
  "metadata": {
    "colab": {
      "name": "Pandas.ipynb",
      "provenance": [],
      "collapsed_sections": [],
      "mount_file_id": "1vhNSzn9dJMl9PJgLe5NLx1C8xGOAFiaT",
      "authorship_tag": "ABX9TyMBqjj/l+qETvgGj/Wc7Zn5",
      "include_colab_link": true
    },
    "kernelspec": {
      "name": "python3",
      "display_name": "Python 3"
    },
    "language_info": {
      "name": "python"
    }
  },
  "cells": [
    {
      "cell_type": "markdown",
      "metadata": {
        "id": "view-in-github",
        "colab_type": "text"
      },
      "source": [
        "<a href=\"https://colab.research.google.com/github/d-camargo/GT00PTR007/blob/main/Pandas.ipynb\" target=\"_parent\"><img src=\"https://colab.research.google.com/assets/colab-badge.svg\" alt=\"Open In Colab\"/></a>"
      ]
    },
    {
      "cell_type": "markdown",
      "source": [
        "#Introdução\n",
        "Pandas é uma biblioteca de software criada para a linguagem Python para manipulação e análise de dados. O Pandas é open-source e de uso gratuito (sob uma licença BSD), que fornece ferramentas para análise e manipulação de dados.\n",
        "Todas as informações necessárias para entendimento ou busca das funcionalidades do Pandas pode ser encontrado no site oficial - [Pandas](https://pandas.pydata.org/)"
      ],
      "metadata": {
        "id": "bC3AUXE2OC2l"
      }
    },
    {
      "cell_type": "markdown",
      "source": [
        "##Python\n",
        "Vamos trabalhar com algumas funções importantes do Python. Vale lembrar que vocês devem pesquisar sempre que necessitarem executar algo no Python. O primeiro local a fazer a pesquisa é na documentação do [Python](https://docs.python.org/pt-br/3.9/)\n",
        "Há um [tutorial](https://docs.python.org/pt-br/3.9/tutorial/index.html) no próprio site do Python que talvez seja importante vocês olharem. Com o tempo que temos disponível na disciplina não será possível passar por detalhes, mesmo assim, aprender uma linguagem de programação ou qualquer operacionalização de software exige mais do empenho de vocês em aplicar, pesquisar e desenvolver a habilidade do que com qualquer outra coisa.\n",
        "Neste tópico, portanto, segue alguns comandos e conceitos que são importantes que provem do próprio Python, ou seja, não é necessário instalação de qualquer pacote. São comandos e conceitos que eu considero importantes, não se limitem a isso...\n",
        "Vamos inciar verificando a versão do Python que temos aqui no Google Colab."
      ],
      "metadata": {
        "id": "qDSt73Kjq8GW"
      }
    },
    {
      "cell_type": "code",
      "source": [
        "!python --version"
      ],
      "metadata": {
        "colab": {
          "base_uri": "https://localhost:8080/"
        },
        "id": "8QyNGabn-jGC",
        "outputId": "1403e67b-4d11-424b-8f51-b0757138911c"
      },
      "execution_count": null,
      "outputs": [
        {
          "output_type": "stream",
          "name": "stdout",
          "text": [
            "Python 3.9.12\n"
          ]
        }
      ]
    },
    {
      "cell_type": "markdown",
      "source": [
        "###Trocar versão do Python\n",
        "Como temos uma versão mais antiga rodando aqui (3.7), vamos atualizar e usar a versão mais nova do Python. Lembrando que estes comandos são do Linux, esta maquina virtual, que estamos usando no Google Colab, é uma versão do Linux (Debian), ou seja, esses comandos no Windows não farão qualquer sentido."
      ],
      "metadata": {
        "id": "hAQjF9u__u9C"
      }
    },
    {
      "cell_type": "code",
      "source": [
        "#Como temos uma versão mais antiga rodando aqui (3.7), vamos atualizar e usar a\n",
        "#versão mais nova do Python. Lembrando que estes comandos são do Linux, esta\n",
        "#maquina virtual, que estamos usando no Google Colab, é uma versão do Linux (Debian)\n",
        "#Atualizando a versão do Python para 3.9\n",
        "!sudo apt-get update -y\n",
        "!sudo apt-get install python3.9"
      ],
      "metadata": {
        "id": "WZkThCis-rAI"
      },
      "execution_count": null,
      "outputs": []
    },
    {
      "cell_type": "code",
      "source": [
        "#Mudando a versão de uso do Python alternatives\n",
        "!sudo update-alternatives --install /usr/bin/python3 python3 /usr/bin/python3.7 1\n",
        "!sudo update-alternatives --install /usr/bin/python3 python3 /usr/bin/python3.9 2\n",
        "#Após execução destes comando, retorne e veja novamente a versão do Python que \n",
        "#estamos usando agora"
      ],
      "metadata": {
        "colab": {
          "base_uri": "https://localhost:8080/"
        },
        "id": "-5CbeDHn_DKC",
        "outputId": "63faaf72-3c3f-4673-8137-9a1de1f89e63"
      },
      "execution_count": null,
      "outputs": [
        {
          "output_type": "stream",
          "name": "stdout",
          "text": [
            "update-alternatives: using /usr/bin/python3.9 to provide /usr/bin/python3 (python3) in auto mode\n"
          ]
        }
      ]
    },
    {
      "cell_type": "markdown",
      "source": [
        "###Funções básicas Python"
      ],
      "metadata": {
        "id": "6281mdTm9SEp"
      }
    },
    {
      "cell_type": "code",
      "source": [
        "#Variáveis: O Python, assim como qualquer outra linguagem de programação, irá trabalhar com variáveis.\n",
        "#As variáveis tem como objetivo armazenar informações. Podemos usar qualquer letra\n",
        "#ou conjunto de caracteres. É necessário atribuir um valor a variável para que ela\n",
        "#seja \"declarada\". Veja o exemplo a seguir\n",
        "n_acidente = 34\n",
        "n_acidente"
      ],
      "metadata": {
        "colab": {
          "base_uri": "https://localhost:8080/"
        },
        "id": "TCh9RqSUsvRm",
        "outputId": "6f0a40cf-2a05-49c6-fc3c-20eafdd50a7f"
      },
      "execution_count": null,
      "outputs": [
        {
          "output_type": "execute_result",
          "data": {
            "text/plain": [
              "34"
            ]
          },
          "metadata": {},
          "execution_count": 25
        }
      ]
    },
    {
      "cell_type": "code",
      "source": [
        "#Podemos realizar operações matemáticas com as variáveis\n",
        "n_acidente + 1"
      ],
      "metadata": {
        "colab": {
          "base_uri": "https://localhost:8080/"
        },
        "id": "CrqJkb3evm0K",
        "outputId": "5b0f6fe2-3b61-48b7-cc83-ccff79dacaba"
      },
      "execution_count": null,
      "outputs": [
        {
          "output_type": "execute_result",
          "data": {
            "text/plain": [
              "35"
            ]
          },
          "metadata": {},
          "execution_count": 2
        }
      ]
    },
    {
      "cell_type": "code",
      "source": [
        "#É possível armazenar uma nova variável utilizando uma já existente\n",
        "n_acidente1 = n_acidente + 10\n",
        "n_acidente1"
      ],
      "metadata": {
        "colab": {
          "base_uri": "https://localhost:8080/"
        },
        "id": "4iRuYOQRv4fE",
        "outputId": "5b069165-367c-4c64-e870-2d26ca967efd"
      },
      "execution_count": null,
      "outputs": [
        {
          "output_type": "execute_result",
          "data": {
            "text/plain": [
              "35"
            ]
          },
          "metadata": {},
          "execution_count": 26
        }
      ]
    },
    {
      "cell_type": "markdown",
      "source": [
        "####Trabalhando com strings"
      ],
      "metadata": {
        "id": "b9nBq6-w9iqn"
      }
    },
    {
      "cell_type": "code",
      "source": [
        "#É possível criar mensagens que utilizam as variáveis\n",
        "print('O número de acidentes em frente ao CEFET é de,',n_acidente,'mas amanhã será de',n_acidente1)"
      ],
      "metadata": {
        "colab": {
          "base_uri": "https://localhost:8080/"
        },
        "id": "tb1bQuEmvvAl",
        "outputId": "bba36411-7843-4dfd-c35d-78ba4efd003f"
      },
      "execution_count": null,
      "outputs": [
        {
          "output_type": "stream",
          "name": "stdout",
          "text": [
            "Tenho 34 anos, mas no próximo ano terei 35\n"
          ]
        }
      ]
    },
    {
      "cell_type": "code",
      "source": [
        "#Além de números, o Python também pode manipular strings (sequências de caracteres), \n",
        "#que podem ser expressas de diversas formas. Elas podem ser delimitadas por aspas \n",
        "#simples ('...') ou duplas (\"...\") e teremos o mesmo resultado. Convenciona-se \n",
        "#utilizar aspas simples.\n",
        "nome = 'Diego Camargo'\n",
        "profissao = 'Professor'\n",
        "instituicao = 'CEFET-MG'\n",
        "print(nome,'é',profissao,'no',instituicao)"
      ],
      "metadata": {
        "colab": {
          "base_uri": "https://localhost:8080/"
        },
        "id": "9r8qm7ae8_H7",
        "outputId": "86e8c99a-0561-4cb9-d195-eefc802b67d2"
      },
      "execution_count": null,
      "outputs": [
        {
          "output_type": "stream",
          "name": "stdout",
          "text": [
            "Diego Camargo é Professor no CEFET-MG\n"
          ]
        }
      ]
    },
    {
      "cell_type": "code",
      "source": [
        "# \\ pode ser usada para escapar aspas, por exemplo\n",
        "nome_logradouro = 'Rua Pingo D\\'água'\n",
        "nome_logradouro"
      ],
      "metadata": {
        "colab": {
          "base_uri": "https://localhost:8080/",
          "height": 35
        },
        "id": "oA875Lm-9mIq",
        "outputId": "b24f535d-1e9a-4e53-8615-adfabcb5a71c"
      },
      "execution_count": null,
      "outputs": [
        {
          "output_type": "execute_result",
          "data": {
            "text/plain": [
              "\"Rua Pingo D'água\""
            ],
            "application/vnd.google.colaboratory.intrinsic+json": {
              "type": "string"
            }
          },
          "metadata": {},
          "execution_count": 30
        }
      ]
    },
    {
      "cell_type": "code",
      "source": [
        "#Para que seja iniciada uma nova linha no texto (string) podemos adicionar '\\n'\n",
        "#Mas para que ocorra a quebra da linha é necessário utilizar a função print()\n",
        "texto = 'Primeira linha \\nSegunda Linha \\nTerceira Linha'\n",
        "print(texto)"
      ],
      "metadata": {
        "colab": {
          "base_uri": "https://localhost:8080/"
        },
        "id": "YFjiAwFfBXBf",
        "outputId": "91c8daa7-aca7-4508-c775-b8b74e297f0b"
      },
      "execution_count": null,
      "outputs": [
        {
          "output_type": "stream",
          "name": "stdout",
          "text": [
            "Primeira linha \n",
            "Segunda Linha \n",
            "Terceira Linha\n"
          ]
        }
      ]
    },
    {
      "cell_type": "code",
      "source": [
        "#Imagine que estamos querendo visualizar o endereço de uma pasta no computador\n",
        "#e que esse endereço é: 'C:\\some\\name'\n",
        "end = 'C:\\some\\name'\n",
        "print(end)\n",
        "#Para não ocorrer esse tipo de erro, podemos utilizar um artificio, inserir o\n",
        "#'r' antes do endereço\n",
        "end = r'C:\\some\\name'\n",
        "print(end)"
      ],
      "metadata": {
        "colab": {
          "base_uri": "https://localhost:8080/"
        },
        "id": "KjrSzRm_CFdY",
        "outputId": "532ad222-2dce-421a-d60d-04b12f2fea86"
      },
      "execution_count": null,
      "outputs": [
        {
          "output_type": "stream",
          "name": "stdout",
          "text": [
            "C:\\some\n",
            "ame\n",
            "C:\\some\\name\n"
          ]
        }
      ]
    },
    {
      "cell_type": "code",
      "source": [
        "#A função len() devolve o comprimento de uma string:\n",
        "print('O compromento da variável \"end\" é igual a',len(end),'caracteres')\n",
        "print('O compromento da variável \"texto\" é igual a',len(texto),'caracteres')"
      ],
      "metadata": {
        "colab": {
          "base_uri": "https://localhost:8080/"
        },
        "id": "3A3p4DQtEBRG",
        "outputId": "0952e33e-3cdb-4b7b-d5ca-dfdaa654c7c4"
      },
      "execution_count": null,
      "outputs": [
        {
          "output_type": "stream",
          "name": "stdout",
          "text": [
            "O compromento da variável \"end\" é igual a 12 caracteres\n",
            "O compromento da variável \"texto\" é igual a 45 caracteres\n"
          ]
        }
      ]
    },
    {
      "cell_type": "code",
      "source": [
        "#Podemos procurar por caracteres especificos nas strings. A resposta sai em \n",
        "#booleano\n",
        "'\\n' in texto\n",
        "#Agora que sabemos que existe o caractere na string podemos usar a função remove\n",
        "#para extrai-la\n",
        "print(texto.replace(\"\\n\",''))\n",
        "#Para subscrever o novo texto na mesma veriável\n",
        "texto = texto.replace(\"\\n\",'')"
      ],
      "metadata": {
        "id": "LpMl1nu0IAmu"
      },
      "execution_count": null,
      "outputs": []
    },
    {
      "cell_type": "markdown",
      "source": [
        "####Trabalhando com listas\n",
        "Python inclui diversas estruturas de dados compostas, usadas para agrupar outros valores. A mais versátil é list (lista), que pode ser escrita como uma lista de valores (itens) separados por vírgula, entre colchetes. Os valores contidos na lista não precisam ser todos do mesmo tipo."
      ],
      "metadata": {
        "id": "-SQ_CumF962f"
      }
    },
    {
      "cell_type": "code",
      "source": [
        "acidentes = [12,23,54,65,98,129]\n",
        "acidentes\n",
        "#Podemos extrair um valor específico da lista através do seu index. O índice inicia\n",
        "#em 0 (zero) e vai até n (número de elementos na lista)\n",
        "acidentes[0]\n",
        "acidentes[4]"
      ],
      "metadata": {
        "colab": {
          "base_uri": "https://localhost:8080/"
        },
        "id": "OSETcgml-ENF",
        "outputId": "e2ea16b4-d7c1-4396-d5ee-82a976b378f5"
      },
      "execution_count": null,
      "outputs": [
        {
          "output_type": "execute_result",
          "data": {
            "text/plain": [
              "98"
            ]
          },
          "metadata": {},
          "execution_count": 5
        }
      ]
    },
    {
      "cell_type": "code",
      "source": [
        "#É possível retirar apenas uma parte dos dados de uma lista, utilizando o index\n",
        "acidentes[3:]\n",
        "acidentes[2:5]"
      ],
      "metadata": {
        "colab": {
          "base_uri": "https://localhost:8080/"
        },
        "id": "hN1Xp18b-xUX",
        "outputId": "413f2f36-7b06-4dde-89fe-36475cdab2e0"
      },
      "execution_count": null,
      "outputs": [
        {
          "output_type": "execute_result",
          "data": {
            "text/plain": [
              "[54, 65, 98]"
            ]
          },
          "metadata": {},
          "execution_count": 8
        }
      ]
    },
    {
      "cell_type": "code",
      "source": [
        "#Concatenar listas (utilizar o sinal de '+' para concatenar)\n",
        "acidentes + [14,42,89]"
      ],
      "metadata": {
        "colab": {
          "base_uri": "https://localhost:8080/"
        },
        "id": "exws8uiQ_RGH",
        "outputId": "06d4d4da-47e5-4404-c0d3-fe3ad973e1c1"
      },
      "execution_count": null,
      "outputs": [
        {
          "output_type": "execute_result",
          "data": {
            "text/plain": [
              "[12, 23, 54, 65, 98, 129, 14, 42, 89]"
            ]
          },
          "metadata": {},
          "execution_count": 9
        }
      ]
    },
    {
      "cell_type": "code",
      "source": [
        "#Diferentemente de strings, que são imutáveis, listas são mutáveis, ou seja, \n",
        "#é possível alterar elementos individuais de uma lista. Para isso devemos\n",
        "#dizer ao sistema qual é o elemento da lista que vamos mudar\n",
        "acidentes[4] = 68\n",
        "acidentes"
      ],
      "metadata": {
        "colab": {
          "base_uri": "https://localhost:8080/"
        },
        "id": "5NLx69eu_fWA",
        "outputId": "00a97c7c-7370-499e-a062-7646652f308d"
      },
      "execution_count": null,
      "outputs": [
        {
          "output_type": "execute_result",
          "data": {
            "text/plain": [
              "[12, 23, 54, 65, 68, 129]"
            ]
          },
          "metadata": {},
          "execution_count": 11
        }
      ]
    },
    {
      "cell_type": "code",
      "source": [
        "#Podemos também pode adicionar novos itens no final da lista, \n",
        "#usando o método append():\n",
        "acidentes.append(98)\n",
        "acidentes"
      ],
      "metadata": {
        "colab": {
          "base_uri": "https://localhost:8080/"
        },
        "id": "4jOM1HPjA9VI",
        "outputId": "72ee72d8-792c-4ad7-b9b4-6bbf6ea6608f"
      },
      "execution_count": null,
      "outputs": [
        {
          "output_type": "execute_result",
          "data": {
            "text/plain": [
              "[12, 23, 54, 65, 68, 129, 98]"
            ]
          },
          "metadata": {},
          "execution_count": 19
        }
      ]
    },
    {
      "cell_type": "code",
      "source": [
        "#Finalmente, podemos manipular todos os dados de uma lista, apenas trabalhando\n",
        "#com o índice. A função len(), que usamos para obter o tamanho de uma string\n",
        "#para listas também vai funcionar, mas agora para saber quantos elementos \n",
        "#temos em uma lista\n",
        "len(acidentes)"
      ],
      "metadata": {
        "colab": {
          "base_uri": "https://localhost:8080/"
        },
        "id": "MtdHRlT6CJU0",
        "outputId": "e3ba3287-50ab-490f-9841-3724e23361c9"
      },
      "execution_count": null,
      "outputs": [
        {
          "output_type": "execute_result",
          "data": {
            "text/plain": [
              "7"
            ]
          },
          "metadata": {},
          "execution_count": 20
        }
      ]
    },
    {
      "cell_type": "code",
      "source": [
        "#Se você precisa iterar sobre sequências numéricas, a função embutida range() é \n",
        "#a resposta. Ela gera progressões aritméticas.\n",
        "for i in range(10):\n",
        "  print(i)"
      ],
      "metadata": {
        "id": "IbXx28rFazM9"
      },
      "execution_count": null,
      "outputs": []
    },
    {
      "cell_type": "code",
      "source": [
        "#Podemos inserir em uma lita todos os valores gerados pelo range()\n",
        "lista = list(range(10))\n",
        "lista"
      ],
      "metadata": {
        "colab": {
          "base_uri": "https://localhost:8080/"
        },
        "id": "PQ7UL1sscDGc",
        "outputId": "95d50caf-0baf-4ff6-f07a-3c62dc0338fe"
      },
      "execution_count": 38,
      "outputs": [
        {
          "output_type": "execute_result",
          "data": {
            "text/plain": [
              "[0, 1, 2, 3, 4, 5, 6, 7, 8, 9]"
            ]
          },
          "metadata": {},
          "execution_count": 38
        }
      ]
    },
    {
      "cell_type": "code",
      "source": [
        "#Exemplo de uma estrutura em laço contendo funções que aprendemos e uma informação nova\n",
        "#Podemos definir duas variáveis ao mesmo tempo 'a, b = 0, 1'. Onde a=0 e b=1\n",
        "lista = []\n",
        "a, b = 0, 1\n",
        "while a < 15:\n",
        "  lista.append(a)\n",
        "  a, b = b, a+b\n",
        "lista"
      ],
      "metadata": {
        "colab": {
          "base_uri": "https://localhost:8080/"
        },
        "id": "NLbeTQm_Ddlj",
        "outputId": "b35eef5f-e39a-4b0b-e994-93dfcb4e0bbe"
      },
      "execution_count": null,
      "outputs": [
        {
          "output_type": "execute_result",
          "data": {
            "text/plain": [
              "[0, 1, 1, 2, 3, 5, 8, 13]"
            ]
          },
          "metadata": {},
          "execution_count": 23
        }
      ]
    },
    {
      "cell_type": "markdown",
      "source": [
        "##Instalação do Pandas no ambiente Python\n",
        "O pip é um sistema de gerenciamento de pacotes padrão usado para instalar e gerenciar pacotes de software escritos em Python.\n",
        "Muitos pacotes podem ser encontrados na fonte padrão para pacotes e suas dependências - Python Index Package. A maioria das distribuições do Python vem com o pip pré-instalado.\n",
        "A sintax para instalação do Pandas ou qualquer outro pacote no Python é:\n",
        "\"pip install 'nome_pacote'\"\n",
        "Abaixo vocês podem conferir o código de instalação do pandas"
      ],
      "metadata": {
        "id": "zWp_HfQbpAut"
      }
    },
    {
      "cell_type": "code",
      "execution_count": null,
      "metadata": {
        "id": "sldzfKCdN9Ry"
      },
      "outputs": [],
      "source": [
        "pip install pandas"
      ]
    },
    {
      "cell_type": "markdown",
      "source": [
        "##Importar o pacote\n",
        "Uma das taferas iniciais para composição do trabalho em Python é a importação dos pacotes que serão utilizados. Nesta etapa podemos sugerir ao sistema uma simplificação do nome do pacote.\n",
        "Toda vez que usamos as ferramentas de um pacote, Pandas por exemplo, devemos 'dizer' ao sistema qual é o pacote, portando, escrever toda vez o nome do pacote (Pandas) no código pode se tornar uma tarefa exaustiva.\n",
        "A sintaxe para importar qualquer pacote é: \"import 'nome_pacote'\". Nos casos que simplificamos o nome do pacote a sintaxe será: \"import 'nome_pacote' as 'sigla_pacote'\"\n",
        "No código abaixo vocês podem verificar a sintaxe aplicada ao pacote Pandas."
      ],
      "metadata": {
        "id": "1lNUw9qFqdic"
      }
    },
    {
      "cell_type": "code",
      "source": [
        "import sys\n",
        "import pandas as pd"
      ],
      "metadata": {
        "id": "jR-CXugEsMoE"
      },
      "execution_count": 4,
      "outputs": []
    },
    {
      "cell_type": "code",
      "source": [
        "pd.__version__"
      ],
      "metadata": {
        "colab": {
          "base_uri": "https://localhost:8080/",
          "height": 36
        },
        "id": "h0KAmrbWXj39",
        "outputId": "d85477a9-d754-4106-8429-2166df8d6657"
      },
      "execution_count": 5,
      "outputs": [
        {
          "output_type": "execute_result",
          "data": {
            "text/plain": [
              "'1.3.5'"
            ],
            "application/vnd.google.colaboratory.intrinsic+json": {
              "type": "string"
            }
          },
          "metadata": {},
          "execution_count": 5
        }
      ]
    },
    {
      "cell_type": "markdown",
      "source": [
        "#Trabalhando com o Pandas\n",
        "Vamos, inicialmente, trabalhar com esse banco de dados - [Relação de ocorrências de acidentes de trânsito com vítima - 2020](https://dados.pbh.gov.br/dataset/relacao-de-ocorrencias-de-acidentes-de-transito-com-vitima). Baixem este arquivo (você podem -ou devem- armazenar este arquivo no Google Drive de vocês, para que ele fique disponível na nuvem, independente do computador que estiverem acessando para executar os códigos.\n",
        "Faça a leitura do arquivo csv, conforme código disponível.\n",
        "É importante destacar a documentação oficial do Pandas [considerando 'input' e 'output'](https://pandas.pydata.org/docs/reference/api/pandas.read_csv.html).\n",
        "Você deve formular algumas perguntas que possivelmente o banco de dados responderão, como por exemplo:\n",
        "\n",
        "**Quais dias da semana tem mais e menos acidentes?**\n",
        "\n",
        "**Qual a média de acidentes no período dos dados?**\n",
        "\n",
        "**Qual o tipo de acidente que é mais frequênte?**\n",
        "\n",
        "Entre outras..."
      ],
      "metadata": {
        "id": "kAkTjqK0tf7a"
      }
    },
    {
      "cell_type": "code",
      "source": [
        "ac = pd.read_csv('/content/drive/MyDrive/Colab Notebooks/si-bol-2020.csv')"
      ],
      "metadata": {
        "id": "PnIekofmI2_B"
      },
      "execution_count": null,
      "outputs": []
    },
    {
      "cell_type": "code",
      "source": [
        "#Após o erro de UnicodeDecodeError podemos modificar a codificação dos dados para ISO-8859-1\n",
        "ac = pd.read_csv('/content/drive/MyDrive/Colab Notebooks/si-bol-2020.csv', encoding = \"ISO-8859-1\")\n",
        "ac.head()"
      ],
      "metadata": {
        "id": "igPJwWOQKk-n"
      },
      "execution_count": null,
      "outputs": []
    },
    {
      "cell_type": "code",
      "source": [
        "#Outro problema com os dados. É necessário informar o Pandas que os dados são delimitados por ';'(ponto e vírgula)\n",
        "ac = pd.read_csv('/content/drive/MyDrive/Colab Notebooks/si-bol-2020.csv', delimiter=';', encoding = \"ISO-8859-1\")\n",
        "ac.head()"
      ],
      "metadata": {
        "id": "oHLm73LMLHPc"
      },
      "execution_count": null,
      "outputs": []
    },
    {
      "cell_type": "code",
      "source": [
        "#A qualquer momento podemos visualizar qual o tipo do arquivo que estamos manipulando\n",
        "#e também informações das variáveis\n",
        "type(ac)\n",
        "ac.info()"
      ],
      "metadata": {
        "id": "osRfT_OEQP8J"
      },
      "execution_count": null,
      "outputs": []
    },
    {
      "cell_type": "code",
      "source": [
        "#Ainda sobre o tipo de variável, podemos usar a função .dtypes\n",
        "ac.dtypes"
      ],
      "metadata": {
        "id": "RBAItnx7STt6"
      },
      "execution_count": null,
      "outputs": []
    },
    {
      "cell_type": "code",
      "source": [
        "#Vamos verificar todas as colunas que tem o BD\n",
        "print(ac.columns)\n",
        "#Podemos fazer a leitura de colunas específicas.\n",
        "print(ac['TIPO_ACIDENTE'])"
      ],
      "metadata": {
        "id": "gyMrL-OGMaUj"
      },
      "execution_count": null,
      "outputs": []
    },
    {
      "cell_type": "markdown",
      "source": [
        "##Alterando campos de uma base de dados\n",
        "A documentação do Pandas para renomear campos [Rename](https://pandas.pydata.org/pandas-docs/stable/reference/api/pandas.DataFrame.rename.html)"
      ],
      "metadata": {
        "id": "g03o5GSLPOw2"
      }
    },
    {
      "cell_type": "code",
      "source": [
        "#Renomeando todas as colunas do DataFrame. Existe a opção de manter os dados originais na variável ac\n",
        "#e fazer o rename em uma nova variável, mas optei por salvar na mesma variável (inplace)\n",
        "ac.rename(columns={' NUMERO_BOLETIM': 'NUMERO_BOLETIM', ' DATA HORA_BOLETIM':'DATA HORA_BOLETIM', \n",
        "                   ' DATA_INCLUSAO': 'DATA_INCLUSAO', ' TIPO_ACIDENTE':'TIPO_ACIDENTE', \n",
        "                   ' DESC_TIPO_ACIDENTE':'DESC_TIPO_ACIDENTE', ' COD_TEMPO':'COD_TEMPO', \n",
        "                   ' DESC_TEMPO':'DESC_TEMPO', ' COD_PAVIMENTO':'COD_PAVIMENTO', \n",
        "                   ' PAVIMENTO': 'PAVIMENTO', ' COD_REGIONAL':'COD_REGIONAL', \n",
        "                   ' DESC_REGIONAL':'DESC_REGIONAL', ' ORIGEM_BOLETIM':'ORIGEM_BOLETIM', \n",
        "                   ' LOCAL_SINALIZADO':'LOCAL_SINALIZADO', ' VELOCIDADE_PERMITIDA':'VELOCIDADE_PERMITIDA', \n",
        "                   ' COORDENADA_X':'COORDENADA_X', ' COORDENADA_Y':'COORDENADA_Y', \n",
        "                   ' HORA_INFORMADA':'HORA_INFORMADA', ' INDICADOR_FATALIDADE':'INDICADOR_FATALIDADE', \n",
        "                   ' VALOR_UPS':'VALOR_UPS', ' DESCRIÇÃO_UPS':'DESCRIÇÃO_UPS', \n",
        "                   ' DATA_ALTERACAO_SMSA':'DATA_ALTERACAO_SMSA', ' VALOR_UPS_ANTIGA':'VALOR_UPS_ANTIGA', \n",
        "                   ' DESCRIÇÃO_UPS_ANTIGA':'DESCRIÇÃO_UPS_ANTIGA'}, inplace = True)\n",
        "\n",
        "print(ac.columns)"
      ],
      "metadata": {
        "id": "ky66SKuPM_Mb"
      },
      "execution_count": null,
      "outputs": []
    },
    {
      "cell_type": "code",
      "source": [
        "#Outra forma de modificar o nome dos campos, mais simples inclusive, é apenas \n",
        "#passando a lista de nomes que você deseja mudar na BD.\n",
        "ac.columns = ['NUMERO_BOLETIM', 'DATA HORA_BOLETIM', 'DATA_INCLUSAO', 'TIPO_ACIDENTE',\n",
        "              'DESC_TIPO_ACIDENTE', 'COD_TEMPO', 'DESC_TEMPO', 'COD_PAVIMENTO',\n",
        "              'PAVIMENTO', 'COD_REGIONAL', 'DESC_REGIONAL', 'ORIGEM_BOLETIM',\n",
        "              'LOCAL_SINALIZADO', 'VELOCIDADE_PERMITIDA', 'COORDENADA_X',\n",
        "              'COORDENADA_Y', 'HORA_INFORMADA', 'INDICADOR_FATALIDADE', 'VALOR_UPS',\n",
        "              'DESCRIÇÃO_UPS', 'DATA_ALTERACAO_SMSA', 'VALOR_UPS_ANTIGA', 'DESCRIÇÃO_UPS_ANTIGA']\n",
        "\n",
        "print(ac[['DESC_TIPO_ACIDENTE','DESC_TEMPO']])"
      ],
      "metadata": {
        "id": "X1gkvOitS1f2"
      },
      "execution_count": null,
      "outputs": []
    },
    {
      "cell_type": "markdown",
      "source": [
        "###Extraindo espaços\n",
        "Uma forma mais elegante e menos trabalhosa é utilizando a função [.strip()](https://pandas.pydata.org/pandas-docs/version/0.24/reference/api/pandas.Series.str.strip.html)"
      ],
      "metadata": {
        "id": "CQU-AUacTO3q"
      }
    },
    {
      "cell_type": "code",
      "source": [
        "ac.columns = ac.columns.str.strip()\n",
        "ac.columns"
      ],
      "metadata": {
        "id": "eM1vrikKSz8D"
      },
      "execution_count": null,
      "outputs": []
    },
    {
      "cell_type": "markdown",
      "source": [
        "##Localizar um valor específico no BD\n",
        "Antes de localizar um valor específico na nossa BD, podemos fazer uma lista com todos os valores existentes naquele campo, ou seja, tirar os valores duplicados (existe uma função equivalente no excel). Uma das formas de tirar os valores duplicados é a função [drop_duplicates](https://pandas.pydata.org/docs/reference/api/pandas.DataFrame.drop_duplicates.html)\n",
        "O link para a documentação da função [loc](https://pandas.pydata.org/docs/reference/api/pandas.Series.loc.html) "
      ],
      "metadata": {
        "id": "NN3nQNYhmg6j"
      }
    },
    {
      "cell_type": "code",
      "source": [
        "#Extraindo uma lista com  todos os valores disponíveis\n",
        "ac['DESC_TIPO_ACIDENTE'].drop_duplicates()\n",
        "lista_acidentes = ac['DESC_TIPO_ACIDENTE'].drop_duplicates()\n",
        "df = lista_acidentes.str.strip()\n",
        "lista_acidentes = pd.Series(data=df)\n",
        "lista_acidentes.index = list(range(len(lista_acidentes)))\n",
        "lista_acidentes"
      ],
      "metadata": {
        "colab": {
          "base_uri": "https://localhost:8080/"
        },
        "id": "2ki9eo-KXbF9",
        "outputId": "2081cea8-9e34-444d-c308-b9eb4de74374"
      },
      "execution_count": 34,
      "outputs": [
        {
          "output_type": "execute_result",
          "data": {
            "text/plain": [
              "0              COLISAO DE VEICULOS COM VITIMA\n",
              "1                  CHOQUE MECANICO COM VITIMA\n",
              "2    ATROPELAMENTO DE PESSOA SEM VITIMA FATAL\n",
              "3                     ABALROAMENTO COM VITIMA\n",
              "4    ATROPELAMENTO DE PESSOA COM VITIMA FATAL\n",
              "5           CAPOTAMENTO/TOMBAMENTO COM VITIMA\n",
              "6                  QUEDA DE PESSOA DE VEICULO\n",
              "7                 QUEDA DE VEICULO COM VITIMA\n",
              "8                           OUTROS COM VITIMA\n",
              "9          ATROPELAMENTO DE ANIMAL COM VITIMA\n",
              "Name: DESC_TIPO_ACIDENTE, dtype: object"
            ]
          },
          "metadata": {},
          "execution_count": 34
        }
      ]
    },
    {
      "cell_type": "code",
      "source": [
        "#Valos realizar uma consulta na BD com todos os dados de um tipo específico de\n",
        "#acidente.\n",
        "ac.loc[ac['DESC_TIPO_ACIDENTE']=='COLISAO DE VEICULOS COM VITIMA']"
      ],
      "metadata": {
        "id": "NVSQfHmoR6QM",
        "colab": {
          "base_uri": "https://localhost:8080/",
          "height": 160
        },
        "outputId": "16ce7803-865e-457e-bb28-3ad69bb72658"
      },
      "execution_count": 39,
      "outputs": [
        {
          "output_type": "execute_result",
          "data": {
            "text/plain": [
              "Empty DataFrame\n",
              "Columns: [NUMERO_BOLETIM, DATA HORA_BOLETIM, DATA_INCLUSAO, TIPO_ACIDENTE, DESC_TIPO_ACIDENTE, COD_TEMPO, DESC_TEMPO, COD_PAVIMENTO, PAVIMENTO, COD_REGIONAL, DESC_REGIONAL, ORIGEM_BOLETIM, LOCAL_SINALIZADO, VELOCIDADE_PERMITIDA, COORDENADA_X, COORDENADA_Y, HORA_INFORMADA, INDICADOR_FATALIDADE, VALOR_UPS, DESCRIÇÃO_UPS, DATA_ALTERACAO_SMSA, VALOR_UPS_ANTIGA, DESCRIÇÃO_UPS_ANTIGA]\n",
              "Index: []\n",
              "\n",
              "[0 rows x 23 columns]"
            ],
            "text/html": [
              "\n",
              "  <div id=\"df-d7d7f9a9-5f9d-478b-ae0d-8227cd396c89\">\n",
              "    <div class=\"colab-df-container\">\n",
              "      <div>\n",
              "<style scoped>\n",
              "    .dataframe tbody tr th:only-of-type {\n",
              "        vertical-align: middle;\n",
              "    }\n",
              "\n",
              "    .dataframe tbody tr th {\n",
              "        vertical-align: top;\n",
              "    }\n",
              "\n",
              "    .dataframe thead th {\n",
              "        text-align: right;\n",
              "    }\n",
              "</style>\n",
              "<table border=\"1\" class=\"dataframe\">\n",
              "  <thead>\n",
              "    <tr style=\"text-align: right;\">\n",
              "      <th></th>\n",
              "      <th>NUMERO_BOLETIM</th>\n",
              "      <th>DATA HORA_BOLETIM</th>\n",
              "      <th>DATA_INCLUSAO</th>\n",
              "      <th>TIPO_ACIDENTE</th>\n",
              "      <th>DESC_TIPO_ACIDENTE</th>\n",
              "      <th>COD_TEMPO</th>\n",
              "      <th>DESC_TEMPO</th>\n",
              "      <th>COD_PAVIMENTO</th>\n",
              "      <th>PAVIMENTO</th>\n",
              "      <th>COD_REGIONAL</th>\n",
              "      <th>...</th>\n",
              "      <th>VELOCIDADE_PERMITIDA</th>\n",
              "      <th>COORDENADA_X</th>\n",
              "      <th>COORDENADA_Y</th>\n",
              "      <th>HORA_INFORMADA</th>\n",
              "      <th>INDICADOR_FATALIDADE</th>\n",
              "      <th>VALOR_UPS</th>\n",
              "      <th>DESCRIÇÃO_UPS</th>\n",
              "      <th>DATA_ALTERACAO_SMSA</th>\n",
              "      <th>VALOR_UPS_ANTIGA</th>\n",
              "      <th>DESCRIÇÃO_UPS_ANTIGA</th>\n",
              "    </tr>\n",
              "  </thead>\n",
              "  <tbody>\n",
              "  </tbody>\n",
              "</table>\n",
              "<p>0 rows × 23 columns</p>\n",
              "</div>\n",
              "      <button class=\"colab-df-convert\" onclick=\"convertToInteractive('df-d7d7f9a9-5f9d-478b-ae0d-8227cd396c89')\"\n",
              "              title=\"Convert this dataframe to an interactive table.\"\n",
              "              style=\"display:none;\">\n",
              "        \n",
              "  <svg xmlns=\"http://www.w3.org/2000/svg\" height=\"24px\"viewBox=\"0 0 24 24\"\n",
              "       width=\"24px\">\n",
              "    <path d=\"M0 0h24v24H0V0z\" fill=\"none\"/>\n",
              "    <path d=\"M18.56 5.44l.94 2.06.94-2.06 2.06-.94-2.06-.94-.94-2.06-.94 2.06-2.06.94zm-11 1L8.5 8.5l.94-2.06 2.06-.94-2.06-.94L8.5 2.5l-.94 2.06-2.06.94zm10 10l.94 2.06.94-2.06 2.06-.94-2.06-.94-.94-2.06-.94 2.06-2.06.94z\"/><path d=\"M17.41 7.96l-1.37-1.37c-.4-.4-.92-.59-1.43-.59-.52 0-1.04.2-1.43.59L10.3 9.45l-7.72 7.72c-.78.78-.78 2.05 0 2.83L4 21.41c.39.39.9.59 1.41.59.51 0 1.02-.2 1.41-.59l7.78-7.78 2.81-2.81c.8-.78.8-2.07 0-2.86zM5.41 20L4 18.59l7.72-7.72 1.47 1.35L5.41 20z\"/>\n",
              "  </svg>\n",
              "      </button>\n",
              "      \n",
              "  <style>\n",
              "    .colab-df-container {\n",
              "      display:flex;\n",
              "      flex-wrap:wrap;\n",
              "      gap: 12px;\n",
              "    }\n",
              "\n",
              "    .colab-df-convert {\n",
              "      background-color: #E8F0FE;\n",
              "      border: none;\n",
              "      border-radius: 50%;\n",
              "      cursor: pointer;\n",
              "      display: none;\n",
              "      fill: #1967D2;\n",
              "      height: 32px;\n",
              "      padding: 0 0 0 0;\n",
              "      width: 32px;\n",
              "    }\n",
              "\n",
              "    .colab-df-convert:hover {\n",
              "      background-color: #E2EBFA;\n",
              "      box-shadow: 0px 1px 2px rgba(60, 64, 67, 0.3), 0px 1px 3px 1px rgba(60, 64, 67, 0.15);\n",
              "      fill: #174EA6;\n",
              "    }\n",
              "\n",
              "    [theme=dark] .colab-df-convert {\n",
              "      background-color: #3B4455;\n",
              "      fill: #D2E3FC;\n",
              "    }\n",
              "\n",
              "    [theme=dark] .colab-df-convert:hover {\n",
              "      background-color: #434B5C;\n",
              "      box-shadow: 0px 1px 3px 1px rgba(0, 0, 0, 0.15);\n",
              "      filter: drop-shadow(0px 1px 2px rgba(0, 0, 0, 0.3));\n",
              "      fill: #FFFFFF;\n",
              "    }\n",
              "  </style>\n",
              "\n",
              "      <script>\n",
              "        const buttonEl =\n",
              "          document.querySelector('#df-d7d7f9a9-5f9d-478b-ae0d-8227cd396c89 button.colab-df-convert');\n",
              "        buttonEl.style.display =\n",
              "          google.colab.kernel.accessAllowed ? 'block' : 'none';\n",
              "\n",
              "        async function convertToInteractive(key) {\n",
              "          const element = document.querySelector('#df-d7d7f9a9-5f9d-478b-ae0d-8227cd396c89');\n",
              "          const dataTable =\n",
              "            await google.colab.kernel.invokeFunction('convertToInteractive',\n",
              "                                                     [key], {});\n",
              "          if (!dataTable) return;\n",
              "\n",
              "          const docLinkHtml = 'Like what you see? Visit the ' +\n",
              "            '<a target=\"_blank\" href=https://colab.research.google.com/notebooks/data_table.ipynb>data table notebook</a>'\n",
              "            + ' to learn more about interactive tables.';\n",
              "          element.innerHTML = '';\n",
              "          dataTable['output_type'] = 'display_data';\n",
              "          await google.colab.output.renderOutput(dataTable, element);\n",
              "          const docLink = document.createElement('div');\n",
              "          docLink.innerHTML = docLinkHtml;\n",
              "          element.appendChild(docLink);\n",
              "        }\n",
              "      </script>\n",
              "    </div>\n",
              "  </div>\n",
              "  "
            ]
          },
          "metadata": {},
          "execution_count": 39
        }
      ]
    },
    {
      "cell_type": "code",
      "source": [
        "#Após o erro vamos verificar a BD\n",
        "print(ac)"
      ],
      "metadata": {
        "id": "U4untr9EYWzY"
      },
      "execution_count": null,
      "outputs": []
    },
    {
      "cell_type": "code",
      "source": [
        "#Para arrumar a base de dados, que tem espaços, podemos resolver dessa forma\n",
        "ac['DESC_TIPO_ACIDENTE'] = ac['DESC_TIPO_ACIDENTE'].str.strip()\n",
        "#ac['DESC_TIPO_ACIDENTE'] = ac['DESC_TIPO_ACIDENTE'].str.strip().str.replace('\\s*,\\s*', ',', regex=True) -- Não é necessário usar dessa forma\n",
        "print(ac['DESC_TIPO_ACIDENTE'])"
      ],
      "metadata": {
        "id": "Efj8osojXFMB"
      },
      "execution_count": null,
      "outputs": []
    },
    {
      "cell_type": "code",
      "source": [
        "#Localizando dados com informaão específica\n",
        "ac.loc[ac['DESC_TIPO_ACIDENTE']=='COLISAO DE VEICULOS COM VITIMA']"
      ],
      "metadata": {
        "id": "6njN2XNHl_4S"
      },
      "execution_count": null,
      "outputs": []
    },
    {
      "cell_type": "markdown",
      "source": [
        "##Trabalhando com datas no pandas\n",
        "Inicialmente devemos transformar a string armazenada no campo 'HORA DATA_BOLETIM' em um datetime (variável de data e horário).\n",
        "O código abaixo cria uma nova coluna, baseado no 'HORA DATA_BOLETIM'.\n",
        "A documentação oficial no site do [Pandas](https://pandas.pydata.org/docs/reference/api/pandas.Series.dt.weekday.html)"
      ],
      "metadata": {
        "id": "OwZMGi-Q_7Tl"
      }
    },
    {
      "cell_type": "code",
      "source": [
        "ac['DATA_BO'] = pd.to_datetime(ac[\"DATA HORA_BOLETIM\"])"
      ],
      "metadata": {
        "id": "9FFNdwWbAqtr"
      },
      "execution_count": 46,
      "outputs": []
    },
    {
      "cell_type": "markdown",
      "source": [
        "#Quais dias da semana tem mais e menos acidentes?\n",
        "Vamos utilizar a função [groupby](https://pandas.pydata.org/docs/reference/api/pandas.DataFrame.groupby.html).\n",
        "A função groupby realizará o agrupamento dos dados baseado em algum campo. Geralmente a função é precedido de outra função como: mean(), count(), sum(), max(), min(), etc."
      ],
      "metadata": {
        "id": "_HOoa2rrdMDg"
      }
    },
    {
      "cell_type": "code",
      "source": [
        "#A semana inicia na Segunda=0, Domingo=6.\n",
        "count = ac.groupby(ac['DATA_BO'].dt.weekday).NUMERO_BOLETIM.count()\n",
        "count.name = 'Contagem'\n",
        "count = pd.DataFrame(count)\n",
        "count['Dia_semana'] = ['Segunda','Terça','Quarta','Quinta','Sexta','Sábado','Domingo']\n",
        "count.index.name = None\n",
        "count"
      ],
      "metadata": {
        "id": "xWVSYRJp7TzR"
      },
      "execution_count": null,
      "outputs": []
    },
    {
      "cell_type": "code",
      "source": [
        "#Encontrando o dia com maior número de acidentes na semana\n",
        "max = count['Contagem'].max()\n",
        "dia_max = count.loc[count['Contagem']==max]\n",
        "max = dia_max.iloc[0]['Contagem']\n",
        "dia = dia_max.iloc[0]['Dia_semana']\n",
        "min = count['Contagem'].min()\n",
        "dia_min = count.loc[count['Contagem']==min]\n",
        "min = dia_min.iloc[0]['Contagem']\n",
        "dia1 = dia_min.iloc[0]['Dia_semana']\n",
        "\n",
        "print('O dia com maior número de acidentes é',dia,'e o número de acidentes é igual a',max)\n",
        "print('O dia com menor número de acidentes é',dia1,'e o número de acidentes é igual a',min)"
      ],
      "metadata": {
        "colab": {
          "base_uri": "https://localhost:8080/"
        },
        "id": "FbTTIc-Chh2r",
        "outputId": "1a2fa9f7-f69d-4606-97c4-28d4641de079"
      },
      "execution_count": 112,
      "outputs": [
        {
          "output_type": "stream",
          "name": "stdout",
          "text": [
            "O dia com maior número de acidentes é Quinta e o número de acidentes é igual a 1640\n",
            "O dia com menor número de acidentes é Domingo e o número de acidentes é igual a 1321\n"
          ]
        }
      ]
    },
    {
      "cell_type": "markdown",
      "source": [
        "#Qual a média de acidentes no período dos dados?"
      ],
      "metadata": {
        "id": "zYXH9vFIudhs"
      }
    },
    {
      "cell_type": "code",
      "source": [
        "media = ac.index.max()/365\n",
        "df = ac.groupby(ac['DESC_TIPO_ACIDENTE']).NUMERO_BOLETIM.count()\n",
        "print('A média de acidentes por dia é de', round(media,2),'e a média por tipo de acidente está apresentada a seguir:\\n\\n',round(df/365,2))"
      ],
      "metadata": {
        "id": "CROhNUvYCDjf",
        "colab": {
          "base_uri": "https://localhost:8080/"
        },
        "outputId": "aa27fd91-0970-4219-9eec-efcaa054f3e2"
      },
      "execution_count": 170,
      "outputs": [
        {
          "output_type": "stream",
          "name": "stdout",
          "text": [
            "A média de acidentes por dia é de 29.1 e a média por tipo de acidente está apresentada a seguir:\n",
            "\n",
            " DESC_TIPO_ACIDENTE\n",
            "ABALROAMENTO COM VITIMA                     13.36\n",
            "ATROPELAMENTO DE ANIMAL COM VITIMA           0.10\n",
            "ATROPELAMENTO DE PESSOA COM VITIMA FATAL     0.11\n",
            "ATROPELAMENTO DE PESSOA SEM VITIMA FATAL     2.86\n",
            "CAPOTAMENTO/TOMBAMENTO COM VITIMA            2.07\n",
            "CHOQUE MECANICO COM VITIMA                   5.22\n",
            "COLISAO DE VEICULOS COM VITIMA               4.17\n",
            "OUTROS COM VITIMA                            0.25\n",
            "QUEDA DE PESSOA DE VEICULO                   0.95\n",
            "QUEDA DE VEICULO COM VITIMA                  0.02\n",
            "Name: NUMERO_BOLETIM, dtype: float64\n"
          ]
        }
      ]
    },
    {
      "cell_type": "markdown",
      "source": [
        "#Qual o tipo de acidente que é mais frequênte?"
      ],
      "metadata": {
        "id": "JVwt8ittupb1"
      }
    },
    {
      "cell_type": "code",
      "source": [
        "tipo_ac = ac.groupby(ac['DESC_TIPO_ACIDENTE']).NUMERO_BOLETIM.count()\n",
        "tipo_ac = pd.DataFrame(tipo_ac)\n",
        "tipo_ac.columns = ['Contagem']\n",
        "tipo_ac.index.name = None\n",
        "max = tipo_ac['Contagem'].max()\n",
        "dia_max = tipo_ac.loc[tipo_ac['Contagem']==max]\n",
        "max = dia_max.iloc[0]['Contagem']\n",
        "tipo = dia_max.iloc[0].name\n",
        "print('O tipo de acidente com maior ocorrência no banco de dados é o', tipo,'com',max,'acidentes')"
      ],
      "metadata": {
        "colab": {
          "base_uri": "https://localhost:8080/"
        },
        "id": "9n8y8FL7uuBD",
        "outputId": "695bbb1b-ef28-4ed4-a696-012eec91f253"
      },
      "execution_count": 201,
      "outputs": [
        {
          "output_type": "stream",
          "name": "stdout",
          "text": [
            "O tipo de acidente com maior ocorrência no banco de dados é o ABALROAMENTO COM VITIMA com 4875 acidentes\n"
          ]
        }
      ]
    }
  ]
}